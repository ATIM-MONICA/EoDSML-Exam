{
 "cells": [
  {
   "cell_type": "code",
   "execution_count": 1,
   "id": "b32a32c9-7188-4e52-9ed8-d7733512ebab",
   "metadata": {},
   "outputs": [],
   "source": [
    "import numpy as np"
   ]
  },
  {
   "cell_type": "code",
   "execution_count": 2,
   "id": "917fccc0-fcee-45a3-9e95-23c24facb1e6",
   "metadata": {},
   "outputs": [],
   "source": [
    "import pandas as pd"
   ]
  },
  {
   "cell_type": "code",
   "execution_count": 3,
   "id": "7ab7b988-1309-4016-8593-636832b0cc9d",
   "metadata": {},
   "outputs": [],
   "source": [
    "import matplotlib.pyplot as plt"
   ]
  },
  {
   "cell_type": "code",
   "execution_count": 4,
   "id": "c269e417-e141-4fb8-a6be-320e25dc5ae6",
   "metadata": {},
   "outputs": [],
   "source": [
    "import seaborn as sns"
   ]
  },
  {
   "cell_type": "code",
   "execution_count": 5,
   "id": "80d0b14e-7dce-451c-9169-51d1a3d5b155",
   "metadata": {},
   "outputs": [],
   "source": [
    "from numpy import random"
   ]
  },
  {
   "cell_type": "markdown",
   "id": "14536c5f-5ca1-43d6-b336-8bf35dd6d075",
   "metadata": {},
   "source": [
    "# 1. Variation and variability"
   ]
  },
  {
   "cell_type": "markdown",
   "id": "dced9b5f-ae78-4ee7-aa63-8bb3d68efca3",
   "metadata": {},
   "source": [
    "Loading Data using pandas as pd"
   ]
  },
  {
   "cell_type": "code",
   "execution_count": 6,
   "id": "164daffa-6e73-45fe-a0f4-047d8e4338eb",
   "metadata": {
    "scrolled": true
   },
   "outputs": [
    {
     "data": {
      "text/html": [
       "<div>\n",
       "<style scoped>\n",
       "    .dataframe tbody tr th:only-of-type {\n",
       "        vertical-align: middle;\n",
       "    }\n",
       "\n",
       "    .dataframe tbody tr th {\n",
       "        vertical-align: top;\n",
       "    }\n",
       "\n",
       "    .dataframe thead th {\n",
       "        text-align: right;\n",
       "    }\n",
       "</style>\n",
       "<table border=\"1\" class=\"dataframe\">\n",
       "  <thead>\n",
       "    <tr style=\"text-align: right;\">\n",
       "      <th></th>\n",
       "      <th>Age</th>\n",
       "      <th>Sex</th>\n",
       "      <th>Marital_status</th>\n",
       "      <th>Number_of_children</th>\n",
       "      <th>Family_size</th>\n",
       "      <th>Education-degree_recode</th>\n",
       "      <th>Education-degree_recode 2</th>\n",
       "      <th>Education</th>\n",
       "      <th>Race_ethnicity-multi_recode</th>\n",
       "      <th>Immigrate-year</th>\n",
       "      <th>Birthplace_recode</th>\n",
       "      <th>Speaks_English</th>\n",
       "      <th>Employment_status</th>\n",
       "      <th>Income-wages</th>\n",
       "      <th>Region_recode</th>\n",
       "      <th>Region-division_recode</th>\n",
       "      <th>Moved</th>\n",
       "      <th>Year</th>\n",
       "      <th>state</th>\n",
       "    </tr>\n",
       "  </thead>\n",
       "  <tbody>\n",
       "    <tr>\n",
       "      <th>0</th>\n",
       "      <td>30</td>\n",
       "      <td>Male</td>\n",
       "      <td>Married, spouse present</td>\n",
       "      <td>2</td>\n",
       "      <td>4</td>\n",
       "      <td>Master’s or professional degree</td>\n",
       "      <td>Master or professional degree</td>\n",
       "      <td>Master or PhD or professional degree</td>\n",
       "      <td>Non-Hispanic White</td>\n",
       "      <td>0</td>\n",
       "      <td>U.S. state, territory, or outlying region</td>\n",
       "      <td>Yes, speaks only English</td>\n",
       "      <td>Employed</td>\n",
       "      <td>63000</td>\n",
       "      <td>South</td>\n",
       "      <td>East South Central</td>\n",
       "      <td>Same house</td>\n",
       "      <td>2020</td>\n",
       "      <td>Tennessee</td>\n",
       "    </tr>\n",
       "    <tr>\n",
       "      <th>1</th>\n",
       "      <td>28</td>\n",
       "      <td>Female</td>\n",
       "      <td>Married, spouse present</td>\n",
       "      <td>1 child present</td>\n",
       "      <td>3</td>\n",
       "      <td>Master’s or professional degree</td>\n",
       "      <td>Master or professional degree</td>\n",
       "      <td>Master or PhD or professional degree</td>\n",
       "      <td>Non-Hispanic White</td>\n",
       "      <td>0</td>\n",
       "      <td>U.S. state, territory, or outlying region</td>\n",
       "      <td>Yes, speaks only English</td>\n",
       "      <td>Employed</td>\n",
       "      <td>46000</td>\n",
       "      <td>South</td>\n",
       "      <td>East South Central</td>\n",
       "      <td>Same house</td>\n",
       "      <td>2020</td>\n",
       "      <td>Tennessee</td>\n",
       "    </tr>\n",
       "    <tr>\n",
       "      <th>2</th>\n",
       "      <td>34</td>\n",
       "      <td>Male</td>\n",
       "      <td>Married, spouse present</td>\n",
       "      <td>1 child present</td>\n",
       "      <td>3</td>\n",
       "      <td>Bachelor’s degree</td>\n",
       "      <td>Bachelor degree</td>\n",
       "      <td>Associate or Bachelor degree</td>\n",
       "      <td>Non-Hispanic White</td>\n",
       "      <td>0</td>\n",
       "      <td>U.S. state, territory, or outlying region</td>\n",
       "      <td>Yes, speaks only English</td>\n",
       "      <td>Employed</td>\n",
       "      <td>45000</td>\n",
       "      <td>South</td>\n",
       "      <td>East South Central</td>\n",
       "      <td>Same house</td>\n",
       "      <td>2020</td>\n",
       "      <td>Tennessee</td>\n",
       "    </tr>\n",
       "    <tr>\n",
       "      <th>3</th>\n",
       "      <td>58</td>\n",
       "      <td>Female</td>\n",
       "      <td>Married, spouse absent</td>\n",
       "      <td>1 child present</td>\n",
       "      <td>2</td>\n",
       "      <td>1 or more years of college, no degree</td>\n",
       "      <td>1 or more years of college, no degree</td>\n",
       "      <td>1 or more years of college, no degree</td>\n",
       "      <td>Non-Hispanic White</td>\n",
       "      <td>0</td>\n",
       "      <td>U.S. state, territory, or outlying region</td>\n",
       "      <td>Yes, speaks only English</td>\n",
       "      <td>Employed</td>\n",
       "      <td>55000</td>\n",
       "      <td>South</td>\n",
       "      <td>East South Central</td>\n",
       "      <td>Same house</td>\n",
       "      <td>2020</td>\n",
       "      <td>Tennessee</td>\n",
       "    </tr>\n",
       "    <tr>\n",
       "      <th>4</th>\n",
       "      <td>39</td>\n",
       "      <td>Male</td>\n",
       "      <td>Never married/single</td>\n",
       "      <td>0 children present</td>\n",
       "      <td>1</td>\n",
       "      <td>Bachelor’s degree</td>\n",
       "      <td>Bachelor degree</td>\n",
       "      <td>Associate or Bachelor degree</td>\n",
       "      <td>Non-Hispanic White</td>\n",
       "      <td>0</td>\n",
       "      <td>U.S. state, territory, or outlying region</td>\n",
       "      <td>Yes, speaks only English</td>\n",
       "      <td>Employed</td>\n",
       "      <td>12000</td>\n",
       "      <td>South</td>\n",
       "      <td>East South Central</td>\n",
       "      <td>Same house</td>\n",
       "      <td>2020</td>\n",
       "      <td>Tennessee</td>\n",
       "    </tr>\n",
       "    <tr>\n",
       "      <th>...</th>\n",
       "      <td>...</td>\n",
       "      <td>...</td>\n",
       "      <td>...</td>\n",
       "      <td>...</td>\n",
       "      <td>...</td>\n",
       "      <td>...</td>\n",
       "      <td>...</td>\n",
       "      <td>...</td>\n",
       "      <td>...</td>\n",
       "      <td>...</td>\n",
       "      <td>...</td>\n",
       "      <td>...</td>\n",
       "      <td>...</td>\n",
       "      <td>...</td>\n",
       "      <td>...</td>\n",
       "      <td>...</td>\n",
       "      <td>...</td>\n",
       "      <td>...</td>\n",
       "      <td>...</td>\n",
       "    </tr>\n",
       "    <tr>\n",
       "      <th>4360</th>\n",
       "      <td>67</td>\n",
       "      <td>Male</td>\n",
       "      <td>Married, spouse present</td>\n",
       "      <td>0 children present</td>\n",
       "      <td>2</td>\n",
       "      <td>Bachelor’s degree</td>\n",
       "      <td>Bachelor degree</td>\n",
       "      <td>Associate or Bachelor degree</td>\n",
       "      <td>Non-Hispanic White</td>\n",
       "      <td>0</td>\n",
       "      <td>U.S. state, territory, or outlying region</td>\n",
       "      <td>Yes, speaks only English</td>\n",
       "      <td>Employed</td>\n",
       "      <td>40000</td>\n",
       "      <td>Midwest</td>\n",
       "      <td>West North Central</td>\n",
       "      <td>Same house</td>\n",
       "      <td>2020</td>\n",
       "      <td>North Dakota</td>\n",
       "    </tr>\n",
       "    <tr>\n",
       "      <th>4361</th>\n",
       "      <td>48</td>\n",
       "      <td>Male</td>\n",
       "      <td>Married, spouse present</td>\n",
       "      <td>4</td>\n",
       "      <td>6</td>\n",
       "      <td>Associate’s degree</td>\n",
       "      <td>Associate degree</td>\n",
       "      <td>Associate or Bachelor degree</td>\n",
       "      <td>Non-Hispanic White</td>\n",
       "      <td>0</td>\n",
       "      <td>U.S. state, territory, or outlying region</td>\n",
       "      <td>Yes, speaks only English</td>\n",
       "      <td>Employed</td>\n",
       "      <td>65000</td>\n",
       "      <td>Midwest</td>\n",
       "      <td>West North Central</td>\n",
       "      <td>Same house</td>\n",
       "      <td>2020</td>\n",
       "      <td>North Dakota</td>\n",
       "    </tr>\n",
       "    <tr>\n",
       "      <th>4362</th>\n",
       "      <td>33</td>\n",
       "      <td>Male</td>\n",
       "      <td>Married, spouse absent</td>\n",
       "      <td>0 children present</td>\n",
       "      <td>1</td>\n",
       "      <td>Associate’s degree</td>\n",
       "      <td>Associate degree</td>\n",
       "      <td>Associate or Bachelor degree</td>\n",
       "      <td>Non-Hispanic Black</td>\n",
       "      <td>2017</td>\n",
       "      <td>Africa</td>\n",
       "      <td>Yes, speaks very well</td>\n",
       "      <td>Employed</td>\n",
       "      <td>45000</td>\n",
       "      <td>Midwest</td>\n",
       "      <td>West North Central</td>\n",
       "      <td>Same house</td>\n",
       "      <td>2020</td>\n",
       "      <td>North Dakota</td>\n",
       "    </tr>\n",
       "    <tr>\n",
       "      <th>4363</th>\n",
       "      <td>22</td>\n",
       "      <td>Female</td>\n",
       "      <td>Never married/single</td>\n",
       "      <td>0 children present</td>\n",
       "      <td>2</td>\n",
       "      <td>1 or more years of college, no degree</td>\n",
       "      <td>1 or more years of college, no degree</td>\n",
       "      <td>1 or more years of college, no degree</td>\n",
       "      <td>Non-Hispanic White</td>\n",
       "      <td>0</td>\n",
       "      <td>U.S. state, territory, or outlying region</td>\n",
       "      <td>Yes, speaks only English</td>\n",
       "      <td>Employed</td>\n",
       "      <td>500</td>\n",
       "      <td>Midwest</td>\n",
       "      <td>West North Central</td>\n",
       "      <td>Same house</td>\n",
       "      <td>2020</td>\n",
       "      <td>North Dakota</td>\n",
       "    </tr>\n",
       "    <tr>\n",
       "      <th>4364</th>\n",
       "      <td>49</td>\n",
       "      <td>Female</td>\n",
       "      <td>Married, spouse present</td>\n",
       "      <td>2</td>\n",
       "      <td>4</td>\n",
       "      <td>Master’s or professional degree</td>\n",
       "      <td>Master or professional degree</td>\n",
       "      <td>Master or PhD or professional degree</td>\n",
       "      <td>Non-Hispanic White</td>\n",
       "      <td>0</td>\n",
       "      <td>U.S. state, territory, or outlying region</td>\n",
       "      <td>Yes, speaks only English</td>\n",
       "      <td>Employed</td>\n",
       "      <td>498000</td>\n",
       "      <td>Midwest</td>\n",
       "      <td>West North Central</td>\n",
       "      <td>Same house</td>\n",
       "      <td>2020</td>\n",
       "      <td>North Dakota</td>\n",
       "    </tr>\n",
       "  </tbody>\n",
       "</table>\n",
       "<p>4365 rows × 19 columns</p>\n",
       "</div>"
      ],
      "text/plain": [
       "      Age     Sex           Marital_status  Number_of_children  Family_size  \\\n",
       "0      30    Male  Married, spouse present                   2            4   \n",
       "1      28  Female  Married, spouse present     1 child present            3   \n",
       "2      34    Male  Married, spouse present     1 child present            3   \n",
       "3      58  Female   Married, spouse absent     1 child present            2   \n",
       "4      39    Male     Never married/single  0 children present            1   \n",
       "...   ...     ...                      ...                 ...          ...   \n",
       "4360   67    Male  Married, spouse present  0 children present            2   \n",
       "4361   48    Male  Married, spouse present                   4            6   \n",
       "4362   33    Male   Married, spouse absent  0 children present            1   \n",
       "4363   22  Female     Never married/single  0 children present            2   \n",
       "4364   49  Female  Married, spouse present                   2            4   \n",
       "\n",
       "                    Education-degree_recode  \\\n",
       "0           Master’s or professional degree   \n",
       "1           Master’s or professional degree   \n",
       "2                         Bachelor’s degree   \n",
       "3     1 or more years of college, no degree   \n",
       "4                         Bachelor’s degree   \n",
       "...                                     ...   \n",
       "4360                      Bachelor’s degree   \n",
       "4361                     Associate’s degree   \n",
       "4362                     Associate’s degree   \n",
       "4363  1 or more years of college, no degree   \n",
       "4364        Master’s or professional degree   \n",
       "\n",
       "                  Education-degree_recode 2  \\\n",
       "0             Master or professional degree   \n",
       "1             Master or professional degree   \n",
       "2                           Bachelor degree   \n",
       "3     1 or more years of college, no degree   \n",
       "4                           Bachelor degree   \n",
       "...                                     ...   \n",
       "4360                        Bachelor degree   \n",
       "4361                       Associate degree   \n",
       "4362                       Associate degree   \n",
       "4363  1 or more years of college, no degree   \n",
       "4364          Master or professional degree   \n",
       "\n",
       "                                  Education Race_ethnicity-multi_recode  \\\n",
       "0      Master or PhD or professional degree          Non-Hispanic White   \n",
       "1      Master or PhD or professional degree          Non-Hispanic White   \n",
       "2              Associate or Bachelor degree          Non-Hispanic White   \n",
       "3     1 or more years of college, no degree          Non-Hispanic White   \n",
       "4              Associate or Bachelor degree          Non-Hispanic White   \n",
       "...                                     ...                         ...   \n",
       "4360           Associate or Bachelor degree          Non-Hispanic White   \n",
       "4361           Associate or Bachelor degree          Non-Hispanic White   \n",
       "4362           Associate or Bachelor degree          Non-Hispanic Black   \n",
       "4363  1 or more years of college, no degree          Non-Hispanic White   \n",
       "4364   Master or PhD or professional degree          Non-Hispanic White   \n",
       "\n",
       "      Immigrate-year                          Birthplace_recode  \\\n",
       "0                  0  U.S. state, territory, or outlying region   \n",
       "1                  0  U.S. state, territory, or outlying region   \n",
       "2                  0  U.S. state, territory, or outlying region   \n",
       "3                  0  U.S. state, territory, or outlying region   \n",
       "4                  0  U.S. state, territory, or outlying region   \n",
       "...              ...                                        ...   \n",
       "4360               0  U.S. state, territory, or outlying region   \n",
       "4361               0  U.S. state, territory, or outlying region   \n",
       "4362            2017                                     Africa   \n",
       "4363               0  U.S. state, territory, or outlying region   \n",
       "4364               0  U.S. state, territory, or outlying region   \n",
       "\n",
       "                Speaks_English Employment_status  Income-wages Region_recode  \\\n",
       "0     Yes, speaks only English          Employed         63000         South   \n",
       "1     Yes, speaks only English          Employed         46000         South   \n",
       "2     Yes, speaks only English          Employed         45000         South   \n",
       "3     Yes, speaks only English          Employed         55000         South   \n",
       "4     Yes, speaks only English          Employed         12000         South   \n",
       "...                        ...               ...           ...           ...   \n",
       "4360  Yes, speaks only English          Employed         40000       Midwest   \n",
       "4361  Yes, speaks only English          Employed         65000       Midwest   \n",
       "4362     Yes, speaks very well          Employed         45000       Midwest   \n",
       "4363  Yes, speaks only English          Employed           500       Midwest   \n",
       "4364  Yes, speaks only English          Employed        498000       Midwest   \n",
       "\n",
       "     Region-division_recode       Moved  Year         state  \n",
       "0        East South Central  Same house  2020     Tennessee  \n",
       "1        East South Central  Same house  2020     Tennessee  \n",
       "2        East South Central  Same house  2020     Tennessee  \n",
       "3        East South Central  Same house  2020     Tennessee  \n",
       "4        East South Central  Same house  2020     Tennessee  \n",
       "...                     ...         ...   ...           ...  \n",
       "4360     West North Central  Same house  2020  North Dakota  \n",
       "4361     West North Central  Same house  2020  North Dakota  \n",
       "4362     West North Central  Same house  2020  North Dakota  \n",
       "4363     West North Central  Same house  2020  North Dakota  \n",
       "4364     West North Central  Same house  2020  North Dakota  \n",
       "\n",
       "[4365 rows x 19 columns]"
      ]
     },
     "execution_count": 6,
     "metadata": {},
     "output_type": "execute_result"
    }
   ],
   "source": [
    "wages_df = pd.read_csv('Wages 2020Census cleaned.csv')\n",
    "wages_df"
   ]
  },
  {
   "cell_type": "markdown",
   "id": "d8945e6e-fa9c-40c8-ac27-7c0af2236dda",
   "metadata": {},
   "source": [
    "# Exploration of wages_df"
   ]
  },
  {
   "cell_type": "code",
   "execution_count": 7,
   "id": "8f1ea39a-2bc4-4664-87e8-0f18e1bbeb32",
   "metadata": {},
   "outputs": [
    {
     "data": {
      "text/html": [
       "<div>\n",
       "<style scoped>\n",
       "    .dataframe tbody tr th:only-of-type {\n",
       "        vertical-align: middle;\n",
       "    }\n",
       "\n",
       "    .dataframe tbody tr th {\n",
       "        vertical-align: top;\n",
       "    }\n",
       "\n",
       "    .dataframe thead th {\n",
       "        text-align: right;\n",
       "    }\n",
       "</style>\n",
       "<table border=\"1\" class=\"dataframe\">\n",
       "  <thead>\n",
       "    <tr style=\"text-align: right;\">\n",
       "      <th></th>\n",
       "      <th>Age</th>\n",
       "      <th>Sex</th>\n",
       "      <th>Marital_status</th>\n",
       "      <th>Number_of_children</th>\n",
       "      <th>Family_size</th>\n",
       "      <th>Education-degree_recode</th>\n",
       "      <th>Education-degree_recode 2</th>\n",
       "      <th>Education</th>\n",
       "      <th>Race_ethnicity-multi_recode</th>\n",
       "      <th>Immigrate-year</th>\n",
       "      <th>Birthplace_recode</th>\n",
       "      <th>Speaks_English</th>\n",
       "      <th>Employment_status</th>\n",
       "      <th>Income-wages</th>\n",
       "      <th>Region_recode</th>\n",
       "      <th>Region-division_recode</th>\n",
       "      <th>Moved</th>\n",
       "      <th>Year</th>\n",
       "      <th>state</th>\n",
       "    </tr>\n",
       "  </thead>\n",
       "  <tbody>\n",
       "    <tr>\n",
       "      <th>0</th>\n",
       "      <td>30</td>\n",
       "      <td>Male</td>\n",
       "      <td>Married, spouse present</td>\n",
       "      <td>2</td>\n",
       "      <td>4</td>\n",
       "      <td>Master’s or professional degree</td>\n",
       "      <td>Master or professional degree</td>\n",
       "      <td>Master or PhD or professional degree</td>\n",
       "      <td>Non-Hispanic White</td>\n",
       "      <td>0</td>\n",
       "      <td>U.S. state, territory, or outlying region</td>\n",
       "      <td>Yes, speaks only English</td>\n",
       "      <td>Employed</td>\n",
       "      <td>63000</td>\n",
       "      <td>South</td>\n",
       "      <td>East South Central</td>\n",
       "      <td>Same house</td>\n",
       "      <td>2020</td>\n",
       "      <td>Tennessee</td>\n",
       "    </tr>\n",
       "    <tr>\n",
       "      <th>1</th>\n",
       "      <td>28</td>\n",
       "      <td>Female</td>\n",
       "      <td>Married, spouse present</td>\n",
       "      <td>1 child present</td>\n",
       "      <td>3</td>\n",
       "      <td>Master’s or professional degree</td>\n",
       "      <td>Master or professional degree</td>\n",
       "      <td>Master or PhD or professional degree</td>\n",
       "      <td>Non-Hispanic White</td>\n",
       "      <td>0</td>\n",
       "      <td>U.S. state, territory, or outlying region</td>\n",
       "      <td>Yes, speaks only English</td>\n",
       "      <td>Employed</td>\n",
       "      <td>46000</td>\n",
       "      <td>South</td>\n",
       "      <td>East South Central</td>\n",
       "      <td>Same house</td>\n",
       "      <td>2020</td>\n",
       "      <td>Tennessee</td>\n",
       "    </tr>\n",
       "    <tr>\n",
       "      <th>2</th>\n",
       "      <td>34</td>\n",
       "      <td>Male</td>\n",
       "      <td>Married, spouse present</td>\n",
       "      <td>1 child present</td>\n",
       "      <td>3</td>\n",
       "      <td>Bachelor’s degree</td>\n",
       "      <td>Bachelor degree</td>\n",
       "      <td>Associate or Bachelor degree</td>\n",
       "      <td>Non-Hispanic White</td>\n",
       "      <td>0</td>\n",
       "      <td>U.S. state, territory, or outlying region</td>\n",
       "      <td>Yes, speaks only English</td>\n",
       "      <td>Employed</td>\n",
       "      <td>45000</td>\n",
       "      <td>South</td>\n",
       "      <td>East South Central</td>\n",
       "      <td>Same house</td>\n",
       "      <td>2020</td>\n",
       "      <td>Tennessee</td>\n",
       "    </tr>\n",
       "    <tr>\n",
       "      <th>3</th>\n",
       "      <td>58</td>\n",
       "      <td>Female</td>\n",
       "      <td>Married, spouse absent</td>\n",
       "      <td>1 child present</td>\n",
       "      <td>2</td>\n",
       "      <td>1 or more years of college, no degree</td>\n",
       "      <td>1 or more years of college, no degree</td>\n",
       "      <td>1 or more years of college, no degree</td>\n",
       "      <td>Non-Hispanic White</td>\n",
       "      <td>0</td>\n",
       "      <td>U.S. state, territory, or outlying region</td>\n",
       "      <td>Yes, speaks only English</td>\n",
       "      <td>Employed</td>\n",
       "      <td>55000</td>\n",
       "      <td>South</td>\n",
       "      <td>East South Central</td>\n",
       "      <td>Same house</td>\n",
       "      <td>2020</td>\n",
       "      <td>Tennessee</td>\n",
       "    </tr>\n",
       "    <tr>\n",
       "      <th>4</th>\n",
       "      <td>39</td>\n",
       "      <td>Male</td>\n",
       "      <td>Never married/single</td>\n",
       "      <td>0 children present</td>\n",
       "      <td>1</td>\n",
       "      <td>Bachelor’s degree</td>\n",
       "      <td>Bachelor degree</td>\n",
       "      <td>Associate or Bachelor degree</td>\n",
       "      <td>Non-Hispanic White</td>\n",
       "      <td>0</td>\n",
       "      <td>U.S. state, territory, or outlying region</td>\n",
       "      <td>Yes, speaks only English</td>\n",
       "      <td>Employed</td>\n",
       "      <td>12000</td>\n",
       "      <td>South</td>\n",
       "      <td>East South Central</td>\n",
       "      <td>Same house</td>\n",
       "      <td>2020</td>\n",
       "      <td>Tennessee</td>\n",
       "    </tr>\n",
       "  </tbody>\n",
       "</table>\n",
       "</div>"
      ],
      "text/plain": [
       "   Age     Sex           Marital_status  Number_of_children  Family_size  \\\n",
       "0   30    Male  Married, spouse present                   2            4   \n",
       "1   28  Female  Married, spouse present     1 child present            3   \n",
       "2   34    Male  Married, spouse present     1 child present            3   \n",
       "3   58  Female   Married, spouse absent     1 child present            2   \n",
       "4   39    Male     Never married/single  0 children present            1   \n",
       "\n",
       "                 Education-degree_recode  \\\n",
       "0        Master’s or professional degree   \n",
       "1        Master’s or professional degree   \n",
       "2                      Bachelor’s degree   \n",
       "3  1 or more years of college, no degree   \n",
       "4                      Bachelor’s degree   \n",
       "\n",
       "               Education-degree_recode 2  \\\n",
       "0          Master or professional degree   \n",
       "1          Master or professional degree   \n",
       "2                        Bachelor degree   \n",
       "3  1 or more years of college, no degree   \n",
       "4                        Bachelor degree   \n",
       "\n",
       "                               Education Race_ethnicity-multi_recode  \\\n",
       "0   Master or PhD or professional degree          Non-Hispanic White   \n",
       "1   Master or PhD or professional degree          Non-Hispanic White   \n",
       "2           Associate or Bachelor degree          Non-Hispanic White   \n",
       "3  1 or more years of college, no degree          Non-Hispanic White   \n",
       "4           Associate or Bachelor degree          Non-Hispanic White   \n",
       "\n",
       "   Immigrate-year                          Birthplace_recode  \\\n",
       "0               0  U.S. state, territory, or outlying region   \n",
       "1               0  U.S. state, territory, or outlying region   \n",
       "2               0  U.S. state, territory, or outlying region   \n",
       "3               0  U.S. state, territory, or outlying region   \n",
       "4               0  U.S. state, territory, or outlying region   \n",
       "\n",
       "             Speaks_English Employment_status  Income-wages Region_recode  \\\n",
       "0  Yes, speaks only English          Employed         63000         South   \n",
       "1  Yes, speaks only English          Employed         46000         South   \n",
       "2  Yes, speaks only English          Employed         45000         South   \n",
       "3  Yes, speaks only English          Employed         55000         South   \n",
       "4  Yes, speaks only English          Employed         12000         South   \n",
       "\n",
       "  Region-division_recode       Moved  Year      state  \n",
       "0     East South Central  Same house  2020  Tennessee  \n",
       "1     East South Central  Same house  2020  Tennessee  \n",
       "2     East South Central  Same house  2020  Tennessee  \n",
       "3     East South Central  Same house  2020  Tennessee  \n",
       "4     East South Central  Same house  2020  Tennessee  "
      ]
     },
     "execution_count": 7,
     "metadata": {},
     "output_type": "execute_result"
    }
   ],
   "source": [
    "wages_df.head()"
   ]
  },
  {
   "cell_type": "code",
   "execution_count": 8,
   "id": "049fb5b4-07b3-44aa-9d1b-47ee5b4562f0",
   "metadata": {},
   "outputs": [
    {
     "data": {
      "text/html": [
       "<div>\n",
       "<style scoped>\n",
       "    .dataframe tbody tr th:only-of-type {\n",
       "        vertical-align: middle;\n",
       "    }\n",
       "\n",
       "    .dataframe tbody tr th {\n",
       "        vertical-align: top;\n",
       "    }\n",
       "\n",
       "    .dataframe thead th {\n",
       "        text-align: right;\n",
       "    }\n",
       "</style>\n",
       "<table border=\"1\" class=\"dataframe\">\n",
       "  <thead>\n",
       "    <tr style=\"text-align: right;\">\n",
       "      <th></th>\n",
       "      <th>StudentID</th>\n",
       "      <th>Gender</th>\n",
       "      <th>Age</th>\n",
       "      <th>StudyHoursPerWeek</th>\n",
       "      <th>AttendanceRate</th>\n",
       "      <th>GPA</th>\n",
       "      <th>Major</th>\n",
       "      <th>PartTimeJob</th>\n",
       "      <th>ExtraCurricularActivities</th>\n",
       "    </tr>\n",
       "  </thead>\n",
       "  <tbody>\n",
       "    <tr>\n",
       "      <th>0</th>\n",
       "      <td>1</td>\n",
       "      <td>Male</td>\n",
       "      <td>24</td>\n",
       "      <td>37</td>\n",
       "      <td>90.75</td>\n",
       "      <td>3.47</td>\n",
       "      <td>Arts</td>\n",
       "      <td>Yes</td>\n",
       "      <td>No</td>\n",
       "    </tr>\n",
       "    <tr>\n",
       "      <th>1</th>\n",
       "      <td>2</td>\n",
       "      <td>Female</td>\n",
       "      <td>22</td>\n",
       "      <td>37</td>\n",
       "      <td>74.90</td>\n",
       "      <td>2.32</td>\n",
       "      <td>Education</td>\n",
       "      <td>No</td>\n",
       "      <td>No</td>\n",
       "    </tr>\n",
       "    <tr>\n",
       "      <th>2</th>\n",
       "      <td>3</td>\n",
       "      <td>Male</td>\n",
       "      <td>22</td>\n",
       "      <td>10</td>\n",
       "      <td>53.36</td>\n",
       "      <td>2.38</td>\n",
       "      <td>Business</td>\n",
       "      <td>No</td>\n",
       "      <td>No</td>\n",
       "    </tr>\n",
       "    <tr>\n",
       "      <th>3</th>\n",
       "      <td>4</td>\n",
       "      <td>Male</td>\n",
       "      <td>24</td>\n",
       "      <td>10</td>\n",
       "      <td>70.26</td>\n",
       "      <td>3.46</td>\n",
       "      <td>Science</td>\n",
       "      <td>Yes</td>\n",
       "      <td>No</td>\n",
       "    </tr>\n",
       "    <tr>\n",
       "      <th>4</th>\n",
       "      <td>5</td>\n",
       "      <td>Male</td>\n",
       "      <td>18</td>\n",
       "      <td>19</td>\n",
       "      <td>74.87</td>\n",
       "      <td>2.31</td>\n",
       "      <td>Education</td>\n",
       "      <td>Yes</td>\n",
       "      <td>No</td>\n",
       "    </tr>\n",
       "    <tr>\n",
       "      <th>...</th>\n",
       "      <td>...</td>\n",
       "      <td>...</td>\n",
       "      <td>...</td>\n",
       "      <td>...</td>\n",
       "      <td>...</td>\n",
       "      <td>...</td>\n",
       "      <td>...</td>\n",
       "      <td>...</td>\n",
       "      <td>...</td>\n",
       "    </tr>\n",
       "    <tr>\n",
       "      <th>495</th>\n",
       "      <td>496</td>\n",
       "      <td>Male</td>\n",
       "      <td>22</td>\n",
       "      <td>37</td>\n",
       "      <td>76.61</td>\n",
       "      <td>2.97</td>\n",
       "      <td>Science</td>\n",
       "      <td>No</td>\n",
       "      <td>No</td>\n",
       "    </tr>\n",
       "    <tr>\n",
       "      <th>496</th>\n",
       "      <td>497</td>\n",
       "      <td>Male</td>\n",
       "      <td>23</td>\n",
       "      <td>11</td>\n",
       "      <td>56.29</td>\n",
       "      <td>3.20</td>\n",
       "      <td>Science</td>\n",
       "      <td>No</td>\n",
       "      <td>No</td>\n",
       "    </tr>\n",
       "    <tr>\n",
       "      <th>497</th>\n",
       "      <td>498</td>\n",
       "      <td>Female</td>\n",
       "      <td>20</td>\n",
       "      <td>6</td>\n",
       "      <td>56.64</td>\n",
       "      <td>3.20</td>\n",
       "      <td>Science</td>\n",
       "      <td>No</td>\n",
       "      <td>Yes</td>\n",
       "    </tr>\n",
       "    <tr>\n",
       "      <th>498</th>\n",
       "      <td>499</td>\n",
       "      <td>Male</td>\n",
       "      <td>22</td>\n",
       "      <td>18</td>\n",
       "      <td>57.18</td>\n",
       "      <td>2.05</td>\n",
       "      <td>Business</td>\n",
       "      <td>No</td>\n",
       "      <td>Yes</td>\n",
       "    </tr>\n",
       "    <tr>\n",
       "      <th>499</th>\n",
       "      <td>500</td>\n",
       "      <td>Female</td>\n",
       "      <td>24</td>\n",
       "      <td>21</td>\n",
       "      <td>96.99</td>\n",
       "      <td>2.64</td>\n",
       "      <td>Engineering</td>\n",
       "      <td>No</td>\n",
       "      <td>No</td>\n",
       "    </tr>\n",
       "  </tbody>\n",
       "</table>\n",
       "<p>500 rows × 9 columns</p>\n",
       "</div>"
      ],
      "text/plain": [
       "     StudentID  Gender  Age  StudyHoursPerWeek  AttendanceRate   GPA  \\\n",
       "0            1    Male   24                 37           90.75  3.47   \n",
       "1            2  Female   22                 37           74.90  2.32   \n",
       "2            3    Male   22                 10           53.36  2.38   \n",
       "3            4    Male   24                 10           70.26  3.46   \n",
       "4            5    Male   18                 19           74.87  2.31   \n",
       "..         ...     ...  ...                ...             ...   ...   \n",
       "495        496    Male   22                 37           76.61  2.97   \n",
       "496        497    Male   23                 11           56.29  3.20   \n",
       "497        498  Female   20                  6           56.64  3.20   \n",
       "498        499    Male   22                 18           57.18  2.05   \n",
       "499        500  Female   24                 21           96.99  2.64   \n",
       "\n",
       "           Major PartTimeJob ExtraCurricularActivities  \n",
       "0           Arts         Yes                        No  \n",
       "1      Education          No                        No  \n",
       "2       Business          No                        No  \n",
       "3        Science         Yes                        No  \n",
       "4      Education         Yes                        No  \n",
       "..           ...         ...                       ...  \n",
       "495      Science          No                        No  \n",
       "496      Science          No                        No  \n",
       "497      Science          No                       Yes  \n",
       "498     Business          No                       Yes  \n",
       "499  Engineering          No                        No  \n",
       "\n",
       "[500 rows x 9 columns]"
      ]
     },
     "execution_count": 8,
     "metadata": {},
     "output_type": "execute_result"
    }
   ],
   "source": [
    "student_df = pd.read_csv('student_performance_data.csv')\n",
    "student_df"
   ]
  },
  {
   "cell_type": "code",
   "execution_count": 9,
   "id": "8776c4c7-b73a-47a9-bc31-4c9c722f396f",
   "metadata": {},
   "outputs": [
    {
     "data": {
      "text/html": [
       "<div>\n",
       "<style scoped>\n",
       "    .dataframe tbody tr th:only-of-type {\n",
       "        vertical-align: middle;\n",
       "    }\n",
       "\n",
       "    .dataframe tbody tr th {\n",
       "        vertical-align: top;\n",
       "    }\n",
       "\n",
       "    .dataframe thead th {\n",
       "        text-align: right;\n",
       "    }\n",
       "</style>\n",
       "<table border=\"1\" class=\"dataframe\">\n",
       "  <thead>\n",
       "    <tr style=\"text-align: right;\">\n",
       "      <th></th>\n",
       "      <th>Age</th>\n",
       "      <th>Sex</th>\n",
       "      <th>Marital_status</th>\n",
       "      <th>Number_of_children</th>\n",
       "      <th>Family_size</th>\n",
       "      <th>Education-degree_recode</th>\n",
       "      <th>Education-degree_recode 2</th>\n",
       "      <th>Education</th>\n",
       "      <th>Race_ethnicity-multi_recode</th>\n",
       "      <th>Immigrate-year</th>\n",
       "      <th>Birthplace_recode</th>\n",
       "      <th>Speaks_English</th>\n",
       "      <th>Employment_status</th>\n",
       "      <th>Income-wages</th>\n",
       "      <th>Region_recode</th>\n",
       "      <th>Region-division_recode</th>\n",
       "      <th>Moved</th>\n",
       "      <th>Year</th>\n",
       "      <th>state</th>\n",
       "    </tr>\n",
       "  </thead>\n",
       "  <tbody>\n",
       "    <tr>\n",
       "      <th>4360</th>\n",
       "      <td>67</td>\n",
       "      <td>Male</td>\n",
       "      <td>Married, spouse present</td>\n",
       "      <td>0 children present</td>\n",
       "      <td>2</td>\n",
       "      <td>Bachelor’s degree</td>\n",
       "      <td>Bachelor degree</td>\n",
       "      <td>Associate or Bachelor degree</td>\n",
       "      <td>Non-Hispanic White</td>\n",
       "      <td>0</td>\n",
       "      <td>U.S. state, territory, or outlying region</td>\n",
       "      <td>Yes, speaks only English</td>\n",
       "      <td>Employed</td>\n",
       "      <td>40000</td>\n",
       "      <td>Midwest</td>\n",
       "      <td>West North Central</td>\n",
       "      <td>Same house</td>\n",
       "      <td>2020</td>\n",
       "      <td>North Dakota</td>\n",
       "    </tr>\n",
       "    <tr>\n",
       "      <th>4361</th>\n",
       "      <td>48</td>\n",
       "      <td>Male</td>\n",
       "      <td>Married, spouse present</td>\n",
       "      <td>4</td>\n",
       "      <td>6</td>\n",
       "      <td>Associate’s degree</td>\n",
       "      <td>Associate degree</td>\n",
       "      <td>Associate or Bachelor degree</td>\n",
       "      <td>Non-Hispanic White</td>\n",
       "      <td>0</td>\n",
       "      <td>U.S. state, territory, or outlying region</td>\n",
       "      <td>Yes, speaks only English</td>\n",
       "      <td>Employed</td>\n",
       "      <td>65000</td>\n",
       "      <td>Midwest</td>\n",
       "      <td>West North Central</td>\n",
       "      <td>Same house</td>\n",
       "      <td>2020</td>\n",
       "      <td>North Dakota</td>\n",
       "    </tr>\n",
       "    <tr>\n",
       "      <th>4362</th>\n",
       "      <td>33</td>\n",
       "      <td>Male</td>\n",
       "      <td>Married, spouse absent</td>\n",
       "      <td>0 children present</td>\n",
       "      <td>1</td>\n",
       "      <td>Associate’s degree</td>\n",
       "      <td>Associate degree</td>\n",
       "      <td>Associate or Bachelor degree</td>\n",
       "      <td>Non-Hispanic Black</td>\n",
       "      <td>2017</td>\n",
       "      <td>Africa</td>\n",
       "      <td>Yes, speaks very well</td>\n",
       "      <td>Employed</td>\n",
       "      <td>45000</td>\n",
       "      <td>Midwest</td>\n",
       "      <td>West North Central</td>\n",
       "      <td>Same house</td>\n",
       "      <td>2020</td>\n",
       "      <td>North Dakota</td>\n",
       "    </tr>\n",
       "    <tr>\n",
       "      <th>4363</th>\n",
       "      <td>22</td>\n",
       "      <td>Female</td>\n",
       "      <td>Never married/single</td>\n",
       "      <td>0 children present</td>\n",
       "      <td>2</td>\n",
       "      <td>1 or more years of college, no degree</td>\n",
       "      <td>1 or more years of college, no degree</td>\n",
       "      <td>1 or more years of college, no degree</td>\n",
       "      <td>Non-Hispanic White</td>\n",
       "      <td>0</td>\n",
       "      <td>U.S. state, territory, or outlying region</td>\n",
       "      <td>Yes, speaks only English</td>\n",
       "      <td>Employed</td>\n",
       "      <td>500</td>\n",
       "      <td>Midwest</td>\n",
       "      <td>West North Central</td>\n",
       "      <td>Same house</td>\n",
       "      <td>2020</td>\n",
       "      <td>North Dakota</td>\n",
       "    </tr>\n",
       "    <tr>\n",
       "      <th>4364</th>\n",
       "      <td>49</td>\n",
       "      <td>Female</td>\n",
       "      <td>Married, spouse present</td>\n",
       "      <td>2</td>\n",
       "      <td>4</td>\n",
       "      <td>Master’s or professional degree</td>\n",
       "      <td>Master or professional degree</td>\n",
       "      <td>Master or PhD or professional degree</td>\n",
       "      <td>Non-Hispanic White</td>\n",
       "      <td>0</td>\n",
       "      <td>U.S. state, territory, or outlying region</td>\n",
       "      <td>Yes, speaks only English</td>\n",
       "      <td>Employed</td>\n",
       "      <td>498000</td>\n",
       "      <td>Midwest</td>\n",
       "      <td>West North Central</td>\n",
       "      <td>Same house</td>\n",
       "      <td>2020</td>\n",
       "      <td>North Dakota</td>\n",
       "    </tr>\n",
       "  </tbody>\n",
       "</table>\n",
       "</div>"
      ],
      "text/plain": [
       "      Age     Sex           Marital_status  Number_of_children  Family_size  \\\n",
       "4360   67    Male  Married, spouse present  0 children present            2   \n",
       "4361   48    Male  Married, spouse present                   4            6   \n",
       "4362   33    Male   Married, spouse absent  0 children present            1   \n",
       "4363   22  Female     Never married/single  0 children present            2   \n",
       "4364   49  Female  Married, spouse present                   2            4   \n",
       "\n",
       "                    Education-degree_recode  \\\n",
       "4360                      Bachelor’s degree   \n",
       "4361                     Associate’s degree   \n",
       "4362                     Associate’s degree   \n",
       "4363  1 or more years of college, no degree   \n",
       "4364        Master’s or professional degree   \n",
       "\n",
       "                  Education-degree_recode 2  \\\n",
       "4360                        Bachelor degree   \n",
       "4361                       Associate degree   \n",
       "4362                       Associate degree   \n",
       "4363  1 or more years of college, no degree   \n",
       "4364          Master or professional degree   \n",
       "\n",
       "                                  Education Race_ethnicity-multi_recode  \\\n",
       "4360           Associate or Bachelor degree          Non-Hispanic White   \n",
       "4361           Associate or Bachelor degree          Non-Hispanic White   \n",
       "4362           Associate or Bachelor degree          Non-Hispanic Black   \n",
       "4363  1 or more years of college, no degree          Non-Hispanic White   \n",
       "4364   Master or PhD or professional degree          Non-Hispanic White   \n",
       "\n",
       "      Immigrate-year                          Birthplace_recode  \\\n",
       "4360               0  U.S. state, territory, or outlying region   \n",
       "4361               0  U.S. state, territory, or outlying region   \n",
       "4362            2017                                     Africa   \n",
       "4363               0  U.S. state, territory, or outlying region   \n",
       "4364               0  U.S. state, territory, or outlying region   \n",
       "\n",
       "                Speaks_English Employment_status  Income-wages Region_recode  \\\n",
       "4360  Yes, speaks only English          Employed         40000       Midwest   \n",
       "4361  Yes, speaks only English          Employed         65000       Midwest   \n",
       "4362     Yes, speaks very well          Employed         45000       Midwest   \n",
       "4363  Yes, speaks only English          Employed           500       Midwest   \n",
       "4364  Yes, speaks only English          Employed        498000       Midwest   \n",
       "\n",
       "     Region-division_recode       Moved  Year         state  \n",
       "4360     West North Central  Same house  2020  North Dakota  \n",
       "4361     West North Central  Same house  2020  North Dakota  \n",
       "4362     West North Central  Same house  2020  North Dakota  \n",
       "4363     West North Central  Same house  2020  North Dakota  \n",
       "4364     West North Central  Same house  2020  North Dakota  "
      ]
     },
     "execution_count": 9,
     "metadata": {},
     "output_type": "execute_result"
    }
   ],
   "source": [
    "wages_df.tail()"
   ]
  },
  {
   "cell_type": "code",
   "execution_count": 10,
   "id": "da6d8f9e-ca31-4cb6-9915-3c1e64d3fbbd",
   "metadata": {},
   "outputs": [
    {
     "name": "stdout",
     "output_type": "stream",
     "text": [
      "<class 'pandas.core.frame.DataFrame'>\n",
      "RangeIndex: 4365 entries, 0 to 4364\n",
      "Data columns (total 19 columns):\n",
      " #   Column                       Non-Null Count  Dtype \n",
      "---  ------                       --------------  ----- \n",
      " 0   Age                          4365 non-null   int64 \n",
      " 1   Sex                          4365 non-null   object\n",
      " 2   Marital_status               4365 non-null   object\n",
      " 3   Number_of_children           4365 non-null   object\n",
      " 4   Family_size                  4365 non-null   int64 \n",
      " 5   Education-degree_recode      4365 non-null   object\n",
      " 6   Education-degree_recode 2    4365 non-null   object\n",
      " 7   Education                    4365 non-null   object\n",
      " 8   Race_ethnicity-multi_recode  4365 non-null   object\n",
      " 9   Immigrate-year               4365 non-null   int64 \n",
      " 10  Birthplace_recode            4365 non-null   object\n",
      " 11  Speaks_English               4365 non-null   object\n",
      " 12  Employment_status            4365 non-null   object\n",
      " 13  Income-wages                 4365 non-null   int64 \n",
      " 14  Region_recode                4365 non-null   object\n",
      " 15  Region-division_recode       4365 non-null   object\n",
      " 16  Moved                        4365 non-null   object\n",
      " 17  Year                         4365 non-null   int64 \n",
      " 18  state                        4365 non-null   object\n",
      "dtypes: int64(5), object(14)\n",
      "memory usage: 648.1+ KB\n"
     ]
    }
   ],
   "source": [
    "# Getting more info on the dataset\n",
    "wages_df.info()"
   ]
  },
  {
   "cell_type": "markdown",
   "id": "59883407-ac67-4194-97a7-b038d7289d2e",
   "metadata": {},
   "source": [
    "# Summary statistices"
   ]
  },
  {
   "cell_type": "code",
   "execution_count": 11,
   "id": "aadf75ae-3a39-4460-86f4-9b4eba2af01c",
   "metadata": {},
   "outputs": [
    {
     "data": {
      "text/html": [
       "<div>\n",
       "<style scoped>\n",
       "    .dataframe tbody tr th:only-of-type {\n",
       "        vertical-align: middle;\n",
       "    }\n",
       "\n",
       "    .dataframe tbody tr th {\n",
       "        vertical-align: top;\n",
       "    }\n",
       "\n",
       "    .dataframe thead th {\n",
       "        text-align: right;\n",
       "    }\n",
       "</style>\n",
       "<table border=\"1\" class=\"dataframe\">\n",
       "  <thead>\n",
       "    <tr style=\"text-align: right;\">\n",
       "      <th></th>\n",
       "      <th>Age</th>\n",
       "      <th>Family_size</th>\n",
       "      <th>Immigrate-year</th>\n",
       "      <th>Income-wages</th>\n",
       "      <th>Year</th>\n",
       "    </tr>\n",
       "  </thead>\n",
       "  <tbody>\n",
       "    <tr>\n",
       "      <th>count</th>\n",
       "      <td>4365.000000</td>\n",
       "      <td>4365.000000</td>\n",
       "      <td>4365.000000</td>\n",
       "      <td>4365.000000</td>\n",
       "      <td>4365.0</td>\n",
       "    </tr>\n",
       "    <tr>\n",
       "      <th>mean</th>\n",
       "      <td>41.688889</td>\n",
       "      <td>2.964490</td>\n",
       "      <td>360.903551</td>\n",
       "      <td>58704.164948</td>\n",
       "      <td>2020.0</td>\n",
       "    </tr>\n",
       "    <tr>\n",
       "      <th>std</th>\n",
       "      <td>14.287954</td>\n",
       "      <td>1.603552</td>\n",
       "      <td>769.040850</td>\n",
       "      <td>68338.061435</td>\n",
       "      <td>0.0</td>\n",
       "    </tr>\n",
       "    <tr>\n",
       "      <th>min</th>\n",
       "      <td>16.000000</td>\n",
       "      <td>1.000000</td>\n",
       "      <td>0.000000</td>\n",
       "      <td>30.000000</td>\n",
       "      <td>2020.0</td>\n",
       "    </tr>\n",
       "    <tr>\n",
       "      <th>25%</th>\n",
       "      <td>30.000000</td>\n",
       "      <td>2.000000</td>\n",
       "      <td>0.000000</td>\n",
       "      <td>22000.000000</td>\n",
       "      <td>2020.0</td>\n",
       "    </tr>\n",
       "    <tr>\n",
       "      <th>50%</th>\n",
       "      <td>41.000000</td>\n",
       "      <td>3.000000</td>\n",
       "      <td>0.000000</td>\n",
       "      <td>41000.000000</td>\n",
       "      <td>2020.0</td>\n",
       "    </tr>\n",
       "    <tr>\n",
       "      <th>75%</th>\n",
       "      <td>53.000000</td>\n",
       "      <td>4.000000</td>\n",
       "      <td>0.000000</td>\n",
       "      <td>71000.000000</td>\n",
       "      <td>2020.0</td>\n",
       "    </tr>\n",
       "    <tr>\n",
       "      <th>max</th>\n",
       "      <td>87.000000</td>\n",
       "      <td>14.000000</td>\n",
       "      <td>2020.000000</td>\n",
       "      <td>661000.000000</td>\n",
       "      <td>2020.0</td>\n",
       "    </tr>\n",
       "  </tbody>\n",
       "</table>\n",
       "</div>"
      ],
      "text/plain": [
       "               Age  Family_size  Immigrate-year   Income-wages    Year\n",
       "count  4365.000000  4365.000000     4365.000000    4365.000000  4365.0\n",
       "mean     41.688889     2.964490      360.903551   58704.164948  2020.0\n",
       "std      14.287954     1.603552      769.040850   68338.061435     0.0\n",
       "min      16.000000     1.000000        0.000000      30.000000  2020.0\n",
       "25%      30.000000     2.000000        0.000000   22000.000000  2020.0\n",
       "50%      41.000000     3.000000        0.000000   41000.000000  2020.0\n",
       "75%      53.000000     4.000000        0.000000   71000.000000  2020.0\n",
       "max      87.000000    14.000000     2020.000000  661000.000000  2020.0"
      ]
     },
     "execution_count": 11,
     "metadata": {},
     "output_type": "execute_result"
    }
   ],
   "source": [
    "wages_df.describe()"
   ]
  },
  {
   "cell_type": "markdown",
   "id": "cdee70ff-6b95-493d-9f4f-afc86602003e",
   "metadata": {},
   "source": [
    "Description of the summary statistics for the dataset:\n",
    "\n",
    "Age:\n",
    "The average age is 41.69 years, with most individuals falling within a range of 16 to 87 years.\n",
    "The data is relatively spread out (standard deviation: 14.29), with a median age of 41 years, suggesting a roughly symmetrical distribution.\n",
    "\n",
    "Family_size:\n",
    "Families have an average of about 3 members (mean: 2.96), with family sizes ranging from 1 to 14.\n",
    "The median family size is 3, and most families have between 2 and 4 members (25th–75th percentiles).\n",
    "\n",
    "Immigrate-year:\n",
    "Most individuals have an immigration year of 0 (median: 0 and 25th percentile: 0), suggesting they were likely born in the country.\n",
    "The high mean (360.90) and large standard deviation (769.04) indicate the presence of outliers or unusual cases.\n",
    "\n",
    "Income-wages:\n",
    "The average income is $58,704, but the median income is lower at $41,000, reflecting a right-skewed distribution.\n",
    "Wages range from $30 to $661,000, with a significant variability (standard deviation: $68,338).\n",
    "\n",
    "Year:\n",
    "All data points are from the year 2020, as there is no variation in this column.\n"
   ]
  },
  {
   "cell_type": "code",
   "execution_count": 12,
   "id": "cb137348-46e9-41da-8de8-2920ba397f93",
   "metadata": {},
   "outputs": [
    {
     "data": {
      "text/plain": [
       "Age                            0\n",
       "Sex                            0\n",
       "Marital_status                 0\n",
       "Number_of_children             0\n",
       "Family_size                    0\n",
       "Education-degree_recode        0\n",
       "Education-degree_recode 2      0\n",
       "Education                      0\n",
       "Race_ethnicity-multi_recode    0\n",
       "Immigrate-year                 0\n",
       "Birthplace_recode              0\n",
       "Speaks_English                 0\n",
       "Employment_status              0\n",
       "Income-wages                   0\n",
       "Region_recode                  0\n",
       "Region-division_recode         0\n",
       "Moved                          0\n",
       "Year                           0\n",
       "state                          0\n",
       "dtype: int64"
      ]
     },
     "execution_count": 12,
     "metadata": {},
     "output_type": "execute_result"
    }
   ],
   "source": [
    "wages_df.isna().sum()"
   ]
  },
  {
   "cell_type": "markdown",
   "id": "38b2e88e-ecf6-46ff-92af-ec1492b62777",
   "metadata": {},
   "source": [
    "There are non null values or missing data in the wages_df. Also the dataset was being cleaned but there could be need to confirm as a Data Analyst since you are the one continuing with further analysis. "
   ]
  },
  {
   "cell_type": "markdown",
   "id": "b1616dc9-c0be-42ca-a58c-82c6de4144f4",
   "metadata": {},
   "source": [
    "Ref;\n",
    "Muhamme, A. B. (n.d.). 03.Intro to pandas. Jupyter Notebook.\n",
    "\n",
    "Muhamme, A. B. (n.d.). 04_exploratory_dataanalysis. Jupyter Notebook."
   ]
  },
  {
   "cell_type": "markdown",
   "id": "daa0ee8e-d57f-44f1-851c-c9b2993cac5a",
   "metadata": {},
   "source": [
    "# 1.a) Typical year income"
   ]
  },
  {
   "cell_type": "code",
   "execution_count": 13,
   "id": "5dce827c-3346-43cc-a86b-24a96023ecf3",
   "metadata": {},
   "outputs": [
    {
     "name": "stdout",
     "output_type": "stream",
     "text": [
      "Number of outliers: 284\n",
      "Outliers preview:\n",
      "     Age     Sex           Marital_status  Number_of_children  Family_size  \\\n",
      "61    65    Male                 Divorced  0 children present            2   \n",
      "78    32    Male     Never married/single  0 children present            1   \n",
      "80    55  Female  Married, spouse present                   2            4   \n",
      "112   53    Male  Married, spouse present  0 children present            2   \n",
      "150   64    Male  Married, spouse present  0 children present            2   \n",
      "\n",
      "                   Education-degree_recode  \\\n",
      "61   1 or more years of college, no degree   \n",
      "78                         Doctoral degree   \n",
      "80         Master’s or professional degree   \n",
      "112        Master’s or professional degree   \n",
      "150  1 or more years of college, no degree   \n",
      "\n",
      "                 Education-degree_recode 2  \\\n",
      "61   1 or more years of college, no degree   \n",
      "78                         Doctoral degree   \n",
      "80           Master or professional degree   \n",
      "112          Master or professional degree   \n",
      "150  1 or more years of college, no degree   \n",
      "\n",
      "                                 Education Race_ethnicity-multi_recode  \\\n",
      "61   1 or more years of college, no degree          Non-Hispanic White   \n",
      "78    Master or PhD or professional degree          Non-Hispanic White   \n",
      "80    Master or PhD or professional degree          Non-Hispanic White   \n",
      "112   Master or PhD or professional degree          Non-Hispanic White   \n",
      "150  1 or more years of college, no degree          Non-Hispanic White   \n",
      "\n",
      "     Immigrate-year                          Birthplace_recode  \\\n",
      "61                0  U.S. state, territory, or outlying region   \n",
      "78                0  U.S. state, territory, or outlying region   \n",
      "80                0  U.S. state, territory, or outlying region   \n",
      "112               0  U.S. state, territory, or outlying region   \n",
      "150               0  U.S. state, territory, or outlying region   \n",
      "\n",
      "               Speaks_English Employment_status  Income-wages Region_recode  \\\n",
      "61   Yes, speaks only English          Employed        458000         South   \n",
      "78   Yes, speaks only English          Employed        153000         South   \n",
      "80   Yes, speaks only English          Employed        225000         South   \n",
      "112  Yes, speaks only English          Employed        175000       Midwest   \n",
      "150  Yes, speaks only English          Employed        176000          West   \n",
      "\n",
      "    Region-division_recode                 Moved  Year       state  \n",
      "61      East South Central            Same house  2020   Tennessee  \n",
      "78      East South Central  Moved between states  2020   Tennessee  \n",
      "80      East South Central            Same house  2020   Tennessee  \n",
      "112     West North Central            Same house  2020        Iowa  \n",
      "150                Pacific            Same house  2020  California  \n"
     ]
    }
   ],
   "source": [
    "# Calculate Q1, Q3, and IQR\n",
    "Q1 = wages_df['Income-wages'].quantile(0.25)\n",
    "Q3 = wages_df['Income-wages'].quantile(0.75)\n",
    "IQR = Q3 - Q1\n",
    "\n",
    "# Defining outlier bounds\n",
    "lower_bound = Q1 - 1.5 * IQR\n",
    "upper_bound = Q3 + 1.5 * IQR\n",
    "\n",
    "# Identify outliers\n",
    "outliers = wages_df[(wages_df['Income-wages'] < lower_bound) | (wages_df['Income-wages'] > upper_bound)]\n",
    "\n",
    "print(f\"Number of outliers: {outliers.shape[0]}\")\n",
    "print(\"Outliers preview:\")\n",
    "print(outliers.head())\n"
   ]
  },
  {
   "cell_type": "code",
   "execution_count": 14,
   "id": "37597a4f-dac6-4442-966c-28d7ce1fcadf",
   "metadata": {},
   "outputs": [
    {
     "data": {
      "image/png": "[encoded data removed]",
      "text/plain": [
       "<Figure size 640x480 with 1 Axes>"
      ]
     },
     "metadata": {},
     "output_type": "display_data"
    }
   ],
   "source": [
    "sns.boxplot(data=wages_df, y='Income-wages')\n",
    "plt.title('Boxplot of Yearly Income')\n",
    "plt.show()\n"
   ]
  },
  {
   "cell_type": "markdown",
   "id": "e192b508-34a0-45c6-b875-7e18724e6e9d",
   "metadata": {},
   "source": [
    "Presence of Outliers:\n",
    "\n",
    "The dots above the upper whisker indicate people with significantly higher yearly incomes than the typical range.\n",
    "These could represent high-income earners, such as executives or individuals in specialized industries."
   ]
  },
  {
   "cell_type": "code",
   "execution_count": 15,
   "id": "89879d6b-7e78-419f-9219-03e06071634d",
   "metadata": {},
   "outputs": [
    {
     "name": "stdout",
     "output_type": "stream",
     "text": [
      "Median:\n"
     ]
    },
    {
     "data": {
      "text/plain": [
       "np.float64(41000.0)"
      ]
     },
     "execution_count": 15,
     "metadata": {},
     "output_type": "execute_result"
    }
   ],
   "source": [
    "typical_year_income = wages_df['Income-wages'].median()\n",
    "print('Median:')\n",
    "typical_year_income\n"
   ]
  },
  {
   "cell_type": "code",
   "execution_count": 16,
   "id": "c1a59fe3-3ea4-4d20-ac14-c82b090b96ce",
   "metadata": {},
   "outputs": [
    {
     "name": "stdout",
     "output_type": "stream",
     "text": [
      "Mean:\n"
     ]
    },
    {
     "data": {
      "text/plain": [
       "np.float64(58704.16494845361)"
      ]
     },
     "execution_count": 16,
     "metadata": {},
     "output_type": "execute_result"
    }
   ],
   "source": [
    "typical_year_income = wages_df['Income-wages'].mean()\n",
    "print('Mean:')\n",
    "typical_year_income\n"
   ]
  },
  {
   "cell_type": "markdown",
   "id": "326b25ea-9da4-469c-8827-d46b0de17736",
   "metadata": {},
   "source": [
    "Both mean and median are good values to represent the typical year income since they both are statistical methods to measure central tendency of dataset though the choice of selection may vary due to presence of outliers in the dataset. Therefore median (np.float64(41000.0)) would be a good representation of typical year income due to presence of outliers. "
   ]
  },
  {
   "cell_type": "markdown",
   "id": "354b1933-843d-4875-8538-509e8e9b1715",
   "metadata": {},
   "source": [
    "# 1.b) Income variations "
   ]
  },
  {
   "cell_type": "markdown",
   "id": "90fa3dfc-3487-4f4a-b970-21f36bf75941",
   "metadata": {},
   "source": [
    "Yearly income of these 4,365 individuals vary. \n",
    "Can be revealed by calculating the range, variance and standard deviation of Income_wages to show how spread out the data points are in a dataset."
   ]
  },
  {
   "cell_type": "code",
   "execution_count": 17,
   "id": "6370e350-d55b-4c3a-8738-b31c37c5f0db",
   "metadata": {},
   "outputs": [
    {
     "name": "stdout",
     "output_type": "stream",
     "text": [
      "Standard deviation: 68338.0614351565\n"
     ]
    }
   ],
   "source": [
    "std = wages_df['Income-wages'].std()\n",
    "print(\"Standard deviation:\", std)\n"
   ]
  },
  {
   "cell_type": "markdown",
   "id": "ff7abd5c-66b5-4054-bb79-a65a304b0165",
   "metadata": {},
   "source": [
    "Standard deviation ($68338.0614351565) is greater than mean ($58704.16494845361)i.e Data points are more spread out.\n",
    "Here, the standard deviation  ($68338.0614351565)  is quite large compared to the mean ($58704.16494845361), indicating a significant spread in yearly incomes."
   ]
  },
  {
   "cell_type": "markdown",
   "id": "cbcea3da-049d-4319-b844-7586f51b59e8",
   "metadata": {},
   "source": [
    "# 1.c) No variability assumption in yearly income"
   ]
  },
  {
   "cell_type": "code",
   "execution_count": 18,
   "id": "dac886df-4713-4854-828a-1d6227ad2dbe",
   "metadata": {},
   "outputs": [],
   "source": [
    "\n",
    "income = 100000\n",
    "\n",
    "standard_deviation = IQR = 0\n"
   ]
  },
  {
   "cell_type": "markdown",
   "id": "e1f049d3-9e4e-4b06-a5fe-a7a21864d410",
   "metadata": {},
   "source": [
    "Interpretation:\n",
    "This dataset has no variability or spread because:\n",
    "\n",
    "All values are the same.\n",
    "There are no outliers, no differences, and no distribution.\n",
    "In real-world terms, this would represent a hypothetical scenario where:\n",
    "\n",
    "Everyone earns exactly $100,000.\n",
    "There is perfect equality in income, which is rare in real-world datasets."
   ]
  },
  {
   "cell_type": "markdown",
   "id": "a3e03e64-ba7b-4171-8857-f50d19ba6a81",
   "metadata": {},
   "source": [
    "# 1.d)"
   ]
  },
  {
   "cell_type": "code",
   "execution_count": 19,
   "id": "ca0644f5-234f-451a-a6e4-911c388b5eb3",
   "metadata": {},
   "outputs": [],
   "source": [
    "# No variability assumption\n",
    "income = 100,000\n",
    "Mean = 100,000\n",
    "Median = 100,000\n",
    "Q1 = 100,000\n",
    "Q3 = 100,000\n",
    "Minimum = 100,000\n",
    "Maximum = 100,000\n",
    "\n",
    "mean = median = Q1 = Q3 = minimum = maximum = income\n"
   ]
  },
  {
   "cell_type": "markdown",
   "id": "99d456ec-b189-4a78-b4d3-bdbdee4e5c19",
   "metadata": {},
   "source": [
    "This means that every data point in the dataset is the same, and everyone has the same income value ($100,000) hence indicating no variation in the income"
   ]
  },
  {
   "cell_type": "markdown",
   "id": "39a1db9b-60c6-4158-9349-7342eb88ebe2",
   "metadata": {},
   "source": [
    "# 1.e) Possible income in variability of yearly income"
   ]
  },
  {
   "cell_type": "code",
   "execution_count": 20,
   "id": "5e95dc4f-b66f-4141-befe-f2699209e2da",
   "metadata": {},
   "outputs": [
    {
     "data": {
      "image/png": "[encoded data removed]",
      "text/plain": [
       "<Figure size 640x480 with 1 Axes>"
      ]
     },
     "metadata": {},
     "output_type": "display_data"
    }
   ],
   "source": [
    "# Visualization\n",
    "sns.boxplot(x='Education', y='Income-wages', data=wages_df)\n",
    "plt.show()\n"
   ]
  },
  {
   "cell_type": "markdown",
   "id": "83d5734b-5d83-4e28-8f9f-efa82c966005",
   "metadata": {},
   "source": [
    "Education Level\n",
    "Higher education (Master's, Doctorate) is likely to be associated with higher median incomes due to access to high-paying professional careers hence causing income variability.\n",
    "\n",
    "Regional differences\n",
    "Different regions of the US often experience different levels of income variability due to varying economic conditions, industry presence, and cost of living.\n",
    "For example:\n",
    "People in the Northeast or West may have higher median incomes compared to those in the South or Midwest due to the presence of more high-paying industries in the coastal cities.\n",
    "The South might show a wider spread, with some regions having relatively low-paying industries (agriculture, service work) and others having higher-paying opportunities (tech hubs like Austin, Texas).\n",
    "\n",
    "The COVID-19 pandemic caused significant income variations in the USA due to its impact on industries, employment levels, work conditions, and government interventions. \n",
    "\n",
    "Reference;\n",
    "(The 2020 Census report highlights the costs of the Covid-19 pandemic)https://www.epi.org/blog/the-2020-census-report-highlights-the-costs-of-the-pandemic-and-benefits-of-early-policy-safety-net-measures\n"
   ]
  },
  {
   "cell_type": "markdown",
   "id": "af4d8d75-fec4-4c28-99a1-8b3a9f53e99e",
   "metadata": {},
   "source": [
    "# 2. Exploratory Data Analysis on student performance data"
   ]
  },
  {
   "cell_type": "code",
   "execution_count": 21,
   "id": "c3018a82-98ba-4f67-b046-1e6a5e40ee3f",
   "metadata": {},
   "outputs": [
    {
     "data": {
      "text/html": [
       "<div>\n",
       "<style scoped>\n",
       "    .dataframe tbody tr th:only-of-type {\n",
       "        vertical-align: middle;\n",
       "    }\n",
       "\n",
       "    .dataframe tbody tr th {\n",
       "        vertical-align: top;\n",
       "    }\n",
       "\n",
       "    .dataframe thead th {\n",
       "        text-align: right;\n",
       "    }\n",
       "</style>\n",
       "<table border=\"1\" class=\"dataframe\">\n",
       "  <thead>\n",
       "    <tr style=\"text-align: right;\">\n",
       "      <th></th>\n",
       "      <th>StudentID</th>\n",
       "      <th>Gender</th>\n",
       "      <th>Age</th>\n",
       "      <th>StudyHoursPerWeek</th>\n",
       "      <th>AttendanceRate</th>\n",
       "      <th>GPA</th>\n",
       "      <th>Major</th>\n",
       "      <th>PartTimeJob</th>\n",
       "      <th>ExtraCurricularActivities</th>\n",
       "    </tr>\n",
       "  </thead>\n",
       "  <tbody>\n",
       "    <tr>\n",
       "      <th>0</th>\n",
       "      <td>1</td>\n",
       "      <td>Male</td>\n",
       "      <td>24</td>\n",
       "      <td>37</td>\n",
       "      <td>90.75</td>\n",
       "      <td>3.47</td>\n",
       "      <td>Arts</td>\n",
       "      <td>Yes</td>\n",
       "      <td>No</td>\n",
       "    </tr>\n",
       "    <tr>\n",
       "      <th>1</th>\n",
       "      <td>2</td>\n",
       "      <td>Female</td>\n",
       "      <td>22</td>\n",
       "      <td>37</td>\n",
       "      <td>74.90</td>\n",
       "      <td>2.32</td>\n",
       "      <td>Education</td>\n",
       "      <td>No</td>\n",
       "      <td>No</td>\n",
       "    </tr>\n",
       "    <tr>\n",
       "      <th>2</th>\n",
       "      <td>3</td>\n",
       "      <td>Male</td>\n",
       "      <td>22</td>\n",
       "      <td>10</td>\n",
       "      <td>53.36</td>\n",
       "      <td>2.38</td>\n",
       "      <td>Business</td>\n",
       "      <td>No</td>\n",
       "      <td>No</td>\n",
       "    </tr>\n",
       "    <tr>\n",
       "      <th>3</th>\n",
       "      <td>4</td>\n",
       "      <td>Male</td>\n",
       "      <td>24</td>\n",
       "      <td>10</td>\n",
       "      <td>70.26</td>\n",
       "      <td>3.46</td>\n",
       "      <td>Science</td>\n",
       "      <td>Yes</td>\n",
       "      <td>No</td>\n",
       "    </tr>\n",
       "    <tr>\n",
       "      <th>4</th>\n",
       "      <td>5</td>\n",
       "      <td>Male</td>\n",
       "      <td>18</td>\n",
       "      <td>19</td>\n",
       "      <td>74.87</td>\n",
       "      <td>2.31</td>\n",
       "      <td>Education</td>\n",
       "      <td>Yes</td>\n",
       "      <td>No</td>\n",
       "    </tr>\n",
       "    <tr>\n",
       "      <th>...</th>\n",
       "      <td>...</td>\n",
       "      <td>...</td>\n",
       "      <td>...</td>\n",
       "      <td>...</td>\n",
       "      <td>...</td>\n",
       "      <td>...</td>\n",
       "      <td>...</td>\n",
       "      <td>...</td>\n",
       "      <td>...</td>\n",
       "    </tr>\n",
       "    <tr>\n",
       "      <th>495</th>\n",
       "      <td>496</td>\n",
       "      <td>Male</td>\n",
       "      <td>22</td>\n",
       "      <td>37</td>\n",
       "      <td>76.61</td>\n",
       "      <td>2.97</td>\n",
       "      <td>Science</td>\n",
       "      <td>No</td>\n",
       "      <td>No</td>\n",
       "    </tr>\n",
       "    <tr>\n",
       "      <th>496</th>\n",
       "      <td>497</td>\n",
       "      <td>Male</td>\n",
       "      <td>23</td>\n",
       "      <td>11</td>\n",
       "      <td>56.29</td>\n",
       "      <td>3.20</td>\n",
       "      <td>Science</td>\n",
       "      <td>No</td>\n",
       "      <td>No</td>\n",
       "    </tr>\n",
       "    <tr>\n",
       "      <th>497</th>\n",
       "      <td>498</td>\n",
       "      <td>Female</td>\n",
       "      <td>20</td>\n",
       "      <td>6</td>\n",
       "      <td>56.64</td>\n",
       "      <td>3.20</td>\n",
       "      <td>Science</td>\n",
       "      <td>No</td>\n",
       "      <td>Yes</td>\n",
       "    </tr>\n",
       "    <tr>\n",
       "      <th>498</th>\n",
       "      <td>499</td>\n",
       "      <td>Male</td>\n",
       "      <td>22</td>\n",
       "      <td>18</td>\n",
       "      <td>57.18</td>\n",
       "      <td>2.05</td>\n",
       "      <td>Business</td>\n",
       "      <td>No</td>\n",
       "      <td>Yes</td>\n",
       "    </tr>\n",
       "    <tr>\n",
       "      <th>499</th>\n",
       "      <td>500</td>\n",
       "      <td>Female</td>\n",
       "      <td>24</td>\n",
       "      <td>21</td>\n",
       "      <td>96.99</td>\n",
       "      <td>2.64</td>\n",
       "      <td>Engineering</td>\n",
       "      <td>No</td>\n",
       "      <td>No</td>\n",
       "    </tr>\n",
       "  </tbody>\n",
       "</table>\n",
       "<p>500 rows × 9 columns</p>\n",
       "</div>"
      ],
      "text/plain": [
       "     StudentID  Gender  Age  StudyHoursPerWeek  AttendanceRate   GPA  \\\n",
       "0            1    Male   24                 37           90.75  3.47   \n",
       "1            2  Female   22                 37           74.90  2.32   \n",
       "2            3    Male   22                 10           53.36  2.38   \n",
       "3            4    Male   24                 10           70.26  3.46   \n",
       "4            5    Male   18                 19           74.87  2.31   \n",
       "..         ...     ...  ...                ...             ...   ...   \n",
       "495        496    Male   22                 37           76.61  2.97   \n",
       "496        497    Male   23                 11           56.29  3.20   \n",
       "497        498  Female   20                  6           56.64  3.20   \n",
       "498        499    Male   22                 18           57.18  2.05   \n",
       "499        500  Female   24                 21           96.99  2.64   \n",
       "\n",
       "           Major PartTimeJob ExtraCurricularActivities  \n",
       "0           Arts         Yes                        No  \n",
       "1      Education          No                        No  \n",
       "2       Business          No                        No  \n",
       "3        Science         Yes                        No  \n",
       "4      Education         Yes                        No  \n",
       "..           ...         ...                       ...  \n",
       "495      Science          No                        No  \n",
       "496      Science          No                        No  \n",
       "497      Science          No                       Yes  \n",
       "498     Business          No                       Yes  \n",
       "499  Engineering          No                        No  \n",
       "\n",
       "[500 rows x 9 columns]"
      ]
     },
     "execution_count": 21,
     "metadata": {},
     "output_type": "execute_result"
    }
   ],
   "source": [
    "student_df = pd.read_csv('student_performance_data.csv')\n",
    "student_df"
   ]
  },
  {
   "cell_type": "code",
   "execution_count": 22,
   "id": "14664a94-ff60-4e51-b232-07619124c3ed",
   "metadata": {},
   "outputs": [
    {
     "data": {
      "text/html": [
       "<div>\n",
       "<style scoped>\n",
       "    .dataframe tbody tr th:only-of-type {\n",
       "        vertical-align: middle;\n",
       "    }\n",
       "\n",
       "    .dataframe tbody tr th {\n",
       "        vertical-align: top;\n",
       "    }\n",
       "\n",
       "    .dataframe thead th {\n",
       "        text-align: right;\n",
       "    }\n",
       "</style>\n",
       "<table border=\"1\" class=\"dataframe\">\n",
       "  <thead>\n",
       "    <tr style=\"text-align: right;\">\n",
       "      <th></th>\n",
       "      <th>StudentID</th>\n",
       "      <th>Gender</th>\n",
       "      <th>Age</th>\n",
       "      <th>StudyHoursPerWeek</th>\n",
       "      <th>AttendanceRate</th>\n",
       "      <th>GPA</th>\n",
       "      <th>Major</th>\n",
       "      <th>PartTimeJob</th>\n",
       "      <th>ExtraCurricularActivities</th>\n",
       "    </tr>\n",
       "  </thead>\n",
       "  <tbody>\n",
       "    <tr>\n",
       "      <th>0</th>\n",
       "      <td>1</td>\n",
       "      <td>Male</td>\n",
       "      <td>24</td>\n",
       "      <td>37</td>\n",
       "      <td>90.75</td>\n",
       "      <td>3.47</td>\n",
       "      <td>Arts</td>\n",
       "      <td>Yes</td>\n",
       "      <td>No</td>\n",
       "    </tr>\n",
       "    <tr>\n",
       "      <th>1</th>\n",
       "      <td>2</td>\n",
       "      <td>Female</td>\n",
       "      <td>22</td>\n",
       "      <td>37</td>\n",
       "      <td>74.90</td>\n",
       "      <td>2.32</td>\n",
       "      <td>Education</td>\n",
       "      <td>No</td>\n",
       "      <td>No</td>\n",
       "    </tr>\n",
       "    <tr>\n",
       "      <th>2</th>\n",
       "      <td>3</td>\n",
       "      <td>Male</td>\n",
       "      <td>22</td>\n",
       "      <td>10</td>\n",
       "      <td>53.36</td>\n",
       "      <td>2.38</td>\n",
       "      <td>Business</td>\n",
       "      <td>No</td>\n",
       "      <td>No</td>\n",
       "    </tr>\n",
       "    <tr>\n",
       "      <th>3</th>\n",
       "      <td>4</td>\n",
       "      <td>Male</td>\n",
       "      <td>24</td>\n",
       "      <td>10</td>\n",
       "      <td>70.26</td>\n",
       "      <td>3.46</td>\n",
       "      <td>Science</td>\n",
       "      <td>Yes</td>\n",
       "      <td>No</td>\n",
       "    </tr>\n",
       "    <tr>\n",
       "      <th>4</th>\n",
       "      <td>5</td>\n",
       "      <td>Male</td>\n",
       "      <td>18</td>\n",
       "      <td>19</td>\n",
       "      <td>74.87</td>\n",
       "      <td>2.31</td>\n",
       "      <td>Education</td>\n",
       "      <td>Yes</td>\n",
       "      <td>No</td>\n",
       "    </tr>\n",
       "  </tbody>\n",
       "</table>\n",
       "</div>"
      ],
      "text/plain": [
       "   StudentID  Gender  Age  StudyHoursPerWeek  AttendanceRate   GPA      Major  \\\n",
       "0          1    Male   24                 37           90.75  3.47       Arts   \n",
       "1          2  Female   22                 37           74.90  2.32  Education   \n",
       "2          3    Male   22                 10           53.36  2.38   Business   \n",
       "3          4    Male   24                 10           70.26  3.46    Science   \n",
       "4          5    Male   18                 19           74.87  2.31  Education   \n",
       "\n",
       "  PartTimeJob ExtraCurricularActivities  \n",
       "0         Yes                        No  \n",
       "1          No                        No  \n",
       "2          No                        No  \n",
       "3         Yes                        No  \n",
       "4         Yes                        No  "
      ]
     },
     "execution_count": 22,
     "metadata": {},
     "output_type": "execute_result"
    }
   ],
   "source": [
    "student_df.head()"
   ]
  },
  {
   "cell_type": "code",
   "execution_count": 23,
   "id": "78b50be6-652b-462e-8efb-39569541a198",
   "metadata": {},
   "outputs": [
    {
     "data": {
      "text/html": [
       "<div>\n",
       "<style scoped>\n",
       "    .dataframe tbody tr th:only-of-type {\n",
       "        vertical-align: middle;\n",
       "    }\n",
       "\n",
       "    .dataframe tbody tr th {\n",
       "        vertical-align: top;\n",
       "    }\n",
       "\n",
       "    .dataframe thead th {\n",
       "        text-align: right;\n",
       "    }\n",
       "</style>\n",
       "<table border=\"1\" class=\"dataframe\">\n",
       "  <thead>\n",
       "    <tr style=\"text-align: right;\">\n",
       "      <th></th>\n",
       "      <th>StudentID</th>\n",
       "      <th>Gender</th>\n",
       "      <th>Age</th>\n",
       "      <th>StudyHoursPerWeek</th>\n",
       "      <th>AttendanceRate</th>\n",
       "      <th>GPA</th>\n",
       "      <th>Major</th>\n",
       "      <th>PartTimeJob</th>\n",
       "      <th>ExtraCurricularActivities</th>\n",
       "    </tr>\n",
       "  </thead>\n",
       "  <tbody>\n",
       "    <tr>\n",
       "      <th>495</th>\n",
       "      <td>496</td>\n",
       "      <td>Male</td>\n",
       "      <td>22</td>\n",
       "      <td>37</td>\n",
       "      <td>76.61</td>\n",
       "      <td>2.97</td>\n",
       "      <td>Science</td>\n",
       "      <td>No</td>\n",
       "      <td>No</td>\n",
       "    </tr>\n",
       "    <tr>\n",
       "      <th>496</th>\n",
       "      <td>497</td>\n",
       "      <td>Male</td>\n",
       "      <td>23</td>\n",
       "      <td>11</td>\n",
       "      <td>56.29</td>\n",
       "      <td>3.20</td>\n",
       "      <td>Science</td>\n",
       "      <td>No</td>\n",
       "      <td>No</td>\n",
       "    </tr>\n",
       "    <tr>\n",
       "      <th>497</th>\n",
       "      <td>498</td>\n",
       "      <td>Female</td>\n",
       "      <td>20</td>\n",
       "      <td>6</td>\n",
       "      <td>56.64</td>\n",
       "      <td>3.20</td>\n",
       "      <td>Science</td>\n",
       "      <td>No</td>\n",
       "      <td>Yes</td>\n",
       "    </tr>\n",
       "    <tr>\n",
       "      <th>498</th>\n",
       "      <td>499</td>\n",
       "      <td>Male</td>\n",
       "      <td>22</td>\n",
       "      <td>18</td>\n",
       "      <td>57.18</td>\n",
       "      <td>2.05</td>\n",
       "      <td>Business</td>\n",
       "      <td>No</td>\n",
       "      <td>Yes</td>\n",
       "    </tr>\n",
       "    <tr>\n",
       "      <th>499</th>\n",
       "      <td>500</td>\n",
       "      <td>Female</td>\n",
       "      <td>24</td>\n",
       "      <td>21</td>\n",
       "      <td>96.99</td>\n",
       "      <td>2.64</td>\n",
       "      <td>Engineering</td>\n",
       "      <td>No</td>\n",
       "      <td>No</td>\n",
       "    </tr>\n",
       "  </tbody>\n",
       "</table>\n",
       "</div>"
      ],
      "text/plain": [
       "     StudentID  Gender  Age  StudyHoursPerWeek  AttendanceRate   GPA  \\\n",
       "495        496    Male   22                 37           76.61  2.97   \n",
       "496        497    Male   23                 11           56.29  3.20   \n",
       "497        498  Female   20                  6           56.64  3.20   \n",
       "498        499    Male   22                 18           57.18  2.05   \n",
       "499        500  Female   24                 21           96.99  2.64   \n",
       "\n",
       "           Major PartTimeJob ExtraCurricularActivities  \n",
       "495      Science          No                        No  \n",
       "496      Science          No                        No  \n",
       "497      Science          No                       Yes  \n",
       "498     Business          No                       Yes  \n",
       "499  Engineering          No                        No  "
      ]
     },
     "execution_count": 23,
     "metadata": {},
     "output_type": "execute_result"
    }
   ],
   "source": [
    "student_df.tail()"
   ]
  },
  {
   "cell_type": "code",
   "execution_count": 24,
   "id": "1c903901-5331-4c82-8ed7-65a9a92a05b6",
   "metadata": {},
   "outputs": [
    {
     "name": "stdout",
     "output_type": "stream",
     "text": [
      "<class 'pandas.core.frame.DataFrame'>\n",
      "RangeIndex: 500 entries, 0 to 499\n",
      "Data columns (total 9 columns):\n",
      " #   Column                     Non-Null Count  Dtype  \n",
      "---  ------                     --------------  -----  \n",
      " 0   StudentID                  500 non-null    int64  \n",
      " 1   Gender                     500 non-null    object \n",
      " 2   Age                        500 non-null    int64  \n",
      " 3   StudyHoursPerWeek          500 non-null    int64  \n",
      " 4   AttendanceRate             500 non-null    float64\n",
      " 5   GPA                        500 non-null    float64\n",
      " 6   Major                      500 non-null    object \n",
      " 7   PartTimeJob                500 non-null    object \n",
      " 8   ExtraCurricularActivities  500 non-null    object \n",
      "dtypes: float64(2), int64(3), object(4)\n",
      "memory usage: 35.3+ KB\n"
     ]
    }
   ],
   "source": [
    "student_df.info() #Getting more information on the data"
   ]
  },
  {
   "cell_type": "code",
   "execution_count": 25,
   "id": "9deed508-6b46-4cd4-8a23-bee9ba04f00f",
   "metadata": {},
   "outputs": [
    {
     "data": {
      "text/html": [
       "<div>\n",
       "<style scoped>\n",
       "    .dataframe tbody tr th:only-of-type {\n",
       "        vertical-align: middle;\n",
       "    }\n",
       "\n",
       "    .dataframe tbody tr th {\n",
       "        vertical-align: top;\n",
       "    }\n",
       "\n",
       "    .dataframe thead th {\n",
       "        text-align: right;\n",
       "    }\n",
       "</style>\n",
       "<table border=\"1\" class=\"dataframe\">\n",
       "  <thead>\n",
       "    <tr style=\"text-align: right;\">\n",
       "      <th></th>\n",
       "      <th>StudentID</th>\n",
       "      <th>Gender</th>\n",
       "      <th>Age</th>\n",
       "      <th>StudyHoursPerWeek</th>\n",
       "      <th>AttendanceRate</th>\n",
       "      <th>GPA</th>\n",
       "      <th>Major</th>\n",
       "      <th>PartTimeJob</th>\n",
       "      <th>ExtraCurricularActivities</th>\n",
       "    </tr>\n",
       "  </thead>\n",
       "  <tbody>\n",
       "    <tr>\n",
       "      <th>0</th>\n",
       "      <td>False</td>\n",
       "      <td>False</td>\n",
       "      <td>False</td>\n",
       "      <td>False</td>\n",
       "      <td>False</td>\n",
       "      <td>False</td>\n",
       "      <td>False</td>\n",
       "      <td>False</td>\n",
       "      <td>False</td>\n",
       "    </tr>\n",
       "    <tr>\n",
       "      <th>1</th>\n",
       "      <td>False</td>\n",
       "      <td>False</td>\n",
       "      <td>False</td>\n",
       "      <td>False</td>\n",
       "      <td>False</td>\n",
       "      <td>False</td>\n",
       "      <td>False</td>\n",
       "      <td>False</td>\n",
       "      <td>False</td>\n",
       "    </tr>\n",
       "    <tr>\n",
       "      <th>2</th>\n",
       "      <td>False</td>\n",
       "      <td>False</td>\n",
       "      <td>False</td>\n",
       "      <td>False</td>\n",
       "      <td>False</td>\n",
       "      <td>False</td>\n",
       "      <td>False</td>\n",
       "      <td>False</td>\n",
       "      <td>False</td>\n",
       "    </tr>\n",
       "    <tr>\n",
       "      <th>3</th>\n",
       "      <td>False</td>\n",
       "      <td>False</td>\n",
       "      <td>False</td>\n",
       "      <td>False</td>\n",
       "      <td>False</td>\n",
       "      <td>False</td>\n",
       "      <td>False</td>\n",
       "      <td>False</td>\n",
       "      <td>False</td>\n",
       "    </tr>\n",
       "    <tr>\n",
       "      <th>4</th>\n",
       "      <td>False</td>\n",
       "      <td>False</td>\n",
       "      <td>False</td>\n",
       "      <td>False</td>\n",
       "      <td>False</td>\n",
       "      <td>False</td>\n",
       "      <td>False</td>\n",
       "      <td>False</td>\n",
       "      <td>False</td>\n",
       "    </tr>\n",
       "    <tr>\n",
       "      <th>...</th>\n",
       "      <td>...</td>\n",
       "      <td>...</td>\n",
       "      <td>...</td>\n",
       "      <td>...</td>\n",
       "      <td>...</td>\n",
       "      <td>...</td>\n",
       "      <td>...</td>\n",
       "      <td>...</td>\n",
       "      <td>...</td>\n",
       "    </tr>\n",
       "    <tr>\n",
       "      <th>495</th>\n",
       "      <td>False</td>\n",
       "      <td>False</td>\n",
       "      <td>False</td>\n",
       "      <td>False</td>\n",
       "      <td>False</td>\n",
       "      <td>False</td>\n",
       "      <td>False</td>\n",
       "      <td>False</td>\n",
       "      <td>False</td>\n",
       "    </tr>\n",
       "    <tr>\n",
       "      <th>496</th>\n",
       "      <td>False</td>\n",
       "      <td>False</td>\n",
       "      <td>False</td>\n",
       "      <td>False</td>\n",
       "      <td>False</td>\n",
       "      <td>False</td>\n",
       "      <td>False</td>\n",
       "      <td>False</td>\n",
       "      <td>False</td>\n",
       "    </tr>\n",
       "    <tr>\n",
       "      <th>497</th>\n",
       "      <td>False</td>\n",
       "      <td>False</td>\n",
       "      <td>False</td>\n",
       "      <td>False</td>\n",
       "      <td>False</td>\n",
       "      <td>False</td>\n",
       "      <td>False</td>\n",
       "      <td>False</td>\n",
       "      <td>False</td>\n",
       "    </tr>\n",
       "    <tr>\n",
       "      <th>498</th>\n",
       "      <td>False</td>\n",
       "      <td>False</td>\n",
       "      <td>False</td>\n",
       "      <td>False</td>\n",
       "      <td>False</td>\n",
       "      <td>False</td>\n",
       "      <td>False</td>\n",
       "      <td>False</td>\n",
       "      <td>False</td>\n",
       "    </tr>\n",
       "    <tr>\n",
       "      <th>499</th>\n",
       "      <td>False</td>\n",
       "      <td>False</td>\n",
       "      <td>False</td>\n",
       "      <td>False</td>\n",
       "      <td>False</td>\n",
       "      <td>False</td>\n",
       "      <td>False</td>\n",
       "      <td>False</td>\n",
       "      <td>False</td>\n",
       "    </tr>\n",
       "  </tbody>\n",
       "</table>\n",
       "<p>500 rows × 9 columns</p>\n",
       "</div>"
      ],
      "text/plain": [
       "     StudentID  Gender    Age  StudyHoursPerWeek  AttendanceRate    GPA  \\\n",
       "0        False   False  False              False           False  False   \n",
       "1        False   False  False              False           False  False   \n",
       "2        False   False  False              False           False  False   \n",
       "3        False   False  False              False           False  False   \n",
       "4        False   False  False              False           False  False   \n",
       "..         ...     ...    ...                ...             ...    ...   \n",
       "495      False   False  False              False           False  False   \n",
       "496      False   False  False              False           False  False   \n",
       "497      False   False  False              False           False  False   \n",
       "498      False   False  False              False           False  False   \n",
       "499      False   False  False              False           False  False   \n",
       "\n",
       "     Major  PartTimeJob  ExtraCurricularActivities  \n",
       "0    False        False                      False  \n",
       "1    False        False                      False  \n",
       "2    False        False                      False  \n",
       "3    False        False                      False  \n",
       "4    False        False                      False  \n",
       "..     ...          ...                        ...  \n",
       "495  False        False                      False  \n",
       "496  False        False                      False  \n",
       "497  False        False                      False  \n",
       "498  False        False                      False  \n",
       "499  False        False                      False  \n",
       "\n",
       "[500 rows x 9 columns]"
      ]
     },
     "execution_count": 25,
     "metadata": {},
     "output_type": "execute_result"
    }
   ],
   "source": [
    "student_df.isna()"
   ]
  },
  {
   "cell_type": "markdown",
   "id": "80f67da5-8713-475d-864f-6564991c1b6f",
   "metadata": {},
   "source": [
    "There's no missing data in the student performance dataset"
   ]
  },
  {
   "cell_type": "code",
   "execution_count": 26,
   "id": "6ef93a39-0dd7-4a8a-8bee-939175e6e214",
   "metadata": {},
   "outputs": [
    {
     "data": {
      "text/plain": [
       "StudentID                    0\n",
       "Gender                       0\n",
       "Age                          0\n",
       "StudyHoursPerWeek            0\n",
       "AttendanceRate               0\n",
       "GPA                          0\n",
       "Major                        0\n",
       "PartTimeJob                  0\n",
       "ExtraCurricularActivities    0\n",
       "dtype: int64"
      ]
     },
     "execution_count": 26,
     "metadata": {},
     "output_type": "execute_result"
    }
   ],
   "source": [
    "student_df.isna().sum()"
   ]
  },
  {
   "cell_type": "markdown",
   "id": "1c9f4cc3-30eb-44c4-ae34-d0ef5ca2aa9e",
   "metadata": {},
   "source": [
    "Since there's no missing data or value in the above dataset, their sum is zero (0) "
   ]
  },
  {
   "cell_type": "code",
   "execution_count": 27,
   "id": "8d7c1c5f-37ec-400e-a8d4-a0bbc30a2478",
   "metadata": {},
   "outputs": [
    {
     "data": {
      "text/html": [
       "<div>\n",
       "<style scoped>\n",
       "    .dataframe tbody tr th:only-of-type {\n",
       "        vertical-align: middle;\n",
       "    }\n",
       "\n",
       "    .dataframe tbody tr th {\n",
       "        vertical-align: top;\n",
       "    }\n",
       "\n",
       "    .dataframe thead th {\n",
       "        text-align: right;\n",
       "    }\n",
       "</style>\n",
       "<table border=\"1\" class=\"dataframe\">\n",
       "  <thead>\n",
       "    <tr style=\"text-align: right;\">\n",
       "      <th></th>\n",
       "      <th>StudentID</th>\n",
       "      <th>Age</th>\n",
       "      <th>StudyHoursPerWeek</th>\n",
       "      <th>AttendanceRate</th>\n",
       "      <th>GPA</th>\n",
       "    </tr>\n",
       "  </thead>\n",
       "  <tbody>\n",
       "    <tr>\n",
       "      <th>count</th>\n",
       "      <td>500.000000</td>\n",
       "      <td>500.000000</td>\n",
       "      <td>500.000000</td>\n",
       "      <td>500.000000</td>\n",
       "      <td>500.00000</td>\n",
       "    </tr>\n",
       "    <tr>\n",
       "      <th>mean</th>\n",
       "      <td>250.500000</td>\n",
       "      <td>20.956000</td>\n",
       "      <td>19.876000</td>\n",
       "      <td>74.990380</td>\n",
       "      <td>2.98516</td>\n",
       "    </tr>\n",
       "    <tr>\n",
       "      <th>std</th>\n",
       "      <td>144.481833</td>\n",
       "      <td>2.000517</td>\n",
       "      <td>11.471347</td>\n",
       "      <td>14.565917</td>\n",
       "      <td>0.56362</td>\n",
       "    </tr>\n",
       "    <tr>\n",
       "      <th>min</th>\n",
       "      <td>1.000000</td>\n",
       "      <td>18.000000</td>\n",
       "      <td>1.000000</td>\n",
       "      <td>50.010000</td>\n",
       "      <td>2.00000</td>\n",
       "    </tr>\n",
       "    <tr>\n",
       "      <th>25%</th>\n",
       "      <td>125.750000</td>\n",
       "      <td>19.000000</td>\n",
       "      <td>10.000000</td>\n",
       "      <td>62.607500</td>\n",
       "      <td>2.48750</td>\n",
       "    </tr>\n",
       "    <tr>\n",
       "      <th>50%</th>\n",
       "      <td>250.500000</td>\n",
       "      <td>21.000000</td>\n",
       "      <td>20.500000</td>\n",
       "      <td>75.730000</td>\n",
       "      <td>3.00000</td>\n",
       "    </tr>\n",
       "    <tr>\n",
       "      <th>75%</th>\n",
       "      <td>375.250000</td>\n",
       "      <td>23.000000</td>\n",
       "      <td>30.000000</td>\n",
       "      <td>87.220000</td>\n",
       "      <td>3.48000</td>\n",
       "    </tr>\n",
       "    <tr>\n",
       "      <th>max</th>\n",
       "      <td>500.000000</td>\n",
       "      <td>24.000000</td>\n",
       "      <td>39.000000</td>\n",
       "      <td>99.970000</td>\n",
       "      <td>3.99000</td>\n",
       "    </tr>\n",
       "  </tbody>\n",
       "</table>\n",
       "</div>"
      ],
      "text/plain": [
       "        StudentID         Age  StudyHoursPerWeek  AttendanceRate        GPA\n",
       "count  500.000000  500.000000         500.000000      500.000000  500.00000\n",
       "mean   250.500000   20.956000          19.876000       74.990380    2.98516\n",
       "std    144.481833    2.000517          11.471347       14.565917    0.56362\n",
       "min      1.000000   18.000000           1.000000       50.010000    2.00000\n",
       "25%    125.750000   19.000000          10.000000       62.607500    2.48750\n",
       "50%    250.500000   21.000000          20.500000       75.730000    3.00000\n",
       "75%    375.250000   23.000000          30.000000       87.220000    3.48000\n",
       "max    500.000000   24.000000          39.000000       99.970000    3.99000"
      ]
     },
     "execution_count": 27,
     "metadata": {},
     "output_type": "execute_result"
    }
   ],
   "source": [
    "student_df.describe() "
   ]
  },
  {
   "cell_type": "markdown",
   "id": "6e179566-2715-43af-b74a-a10e8bbe865f",
   "metadata": {},
   "source": [
    "Interpretation from Summary statistics:\n",
    "StudentID\n",
    "This is a unique identifier for students, ranging from 1 to 500.\n",
    "The mean (250.5) and median (250.5) indicate a sequential numbering system, evenly distributed across the dataset.\n",
    "\n",
    "Age\n",
    "The average age is 20.96 years, with ages ranging from 18 to 24 years.\n",
    "The distribution is fairly tight (standard deviation: 2.00 years), suggesting the sample is primarily composed of college-age students.\n",
    "The median age is 21, which aligns closely with the mean, indicating a roughly symmetric age distribution.\n",
    "\n",
    "StudyHoursPerWeek\n",
    "On average, students study about 19.88 hours per week, but this varies significantly (standard deviation: 11.47 hours).\n",
    "Study hours range from 1 to 39 hours per week, with a median of 20.5 hours.\n",
    "The interquartile range (25th–75th percentile) shows that most students study between 10 and 30 hours weekly.\n",
    "\n",
    "AttendanceRate\n",
    "The average attendance rate is 74.99%, with students attending between 50.01% and 99.97% of their classes.\n",
    "Attendance is moderately variable (standard deviation: 14.57%), with a median attendance rate of 75.73%.\n",
    "Most students have an attendance rate between 62.61% and 87.22% (25th–75th percentile).\n",
    "\n",
    "GPA\n",
    "The average GPA is 2.99, with GPAs ranging from 2.00 to 3.99.\n",
    "The median GPA is 3.00, indicating that grades are fairly balanced around the mean.\n",
    "The distribution of GPAs is moderately tight (standard deviation: 0.56), suggesting relatively consistent academic performance among students.\n"
   ]
  },
  {
   "cell_type": "markdown",
   "id": "a2575939-c26e-400f-a976-b0682061cac2",
   "metadata": {},
   "source": [
    "Reference;\n",
    "Muhamme, A. B. (n.d.). 03.Intro to pandas. Jupyter Notebook."
   ]
  },
  {
   "cell_type": "markdown",
   "id": "c9cb6703-5045-4058-a3d2-b23c2cd656b4",
   "metadata": {
    "jp-MarkdownHeadingCollapsed": true
   },
   "source": [
    " # 2.a) Major with highest study hours per week for each gender"
   ]
  },
  {
   "cell_type": "code",
   "execution_count": 28,
   "id": "8afa1a37-0de2-4fc8-b1ea-820dfb935578",
   "metadata": {},
   "outputs": [
    {
     "data": {
      "text/html": [
       "<div>\n",
       "<style scoped>\n",
       "    .dataframe tbody tr th:only-of-type {\n",
       "        vertical-align: middle;\n",
       "    }\n",
       "\n",
       "    .dataframe tbody tr th {\n",
       "        vertical-align: top;\n",
       "    }\n",
       "\n",
       "    .dataframe thead th {\n",
       "        text-align: right;\n",
       "    }\n",
       "</style>\n",
       "<table border=\"1\" class=\"dataframe\">\n",
       "  <thead>\n",
       "    <tr style=\"text-align: right;\">\n",
       "      <th></th>\n",
       "      <th></th>\n",
       "      <th>StudentID</th>\n",
       "      <th>Age</th>\n",
       "      <th>StudyHoursPerWeek</th>\n",
       "      <th>AttendanceRate</th>\n",
       "      <th>GPA</th>\n",
       "      <th>PartTimeJob</th>\n",
       "      <th>ExtraCurricularActivities</th>\n",
       "    </tr>\n",
       "    <tr>\n",
       "      <th>Gender</th>\n",
       "      <th>Major</th>\n",
       "      <th></th>\n",
       "      <th></th>\n",
       "      <th></th>\n",
       "      <th></th>\n",
       "      <th></th>\n",
       "      <th></th>\n",
       "      <th></th>\n",
       "    </tr>\n",
       "  </thead>\n",
       "  <tbody>\n",
       "    <tr>\n",
       "      <th rowspan=\"5\" valign=\"top\">Female</th>\n",
       "      <th>Arts</th>\n",
       "      <td>55</td>\n",
       "      <td>55</td>\n",
       "      <td>55</td>\n",
       "      <td>55</td>\n",
       "      <td>55</td>\n",
       "      <td>55</td>\n",
       "      <td>55</td>\n",
       "    </tr>\n",
       "    <tr>\n",
       "      <th>Business</th>\n",
       "      <td>57</td>\n",
       "      <td>57</td>\n",
       "      <td>57</td>\n",
       "      <td>57</td>\n",
       "      <td>57</td>\n",
       "      <td>57</td>\n",
       "      <td>57</td>\n",
       "    </tr>\n",
       "    <tr>\n",
       "      <th>Education</th>\n",
       "      <td>41</td>\n",
       "      <td>41</td>\n",
       "      <td>41</td>\n",
       "      <td>41</td>\n",
       "      <td>41</td>\n",
       "      <td>41</td>\n",
       "      <td>41</td>\n",
       "    </tr>\n",
       "    <tr>\n",
       "      <th>Engineering</th>\n",
       "      <td>60</td>\n",
       "      <td>60</td>\n",
       "      <td>60</td>\n",
       "      <td>60</td>\n",
       "      <td>60</td>\n",
       "      <td>60</td>\n",
       "      <td>60</td>\n",
       "    </tr>\n",
       "    <tr>\n",
       "      <th>Science</th>\n",
       "      <td>43</td>\n",
       "      <td>43</td>\n",
       "      <td>43</td>\n",
       "      <td>43</td>\n",
       "      <td>43</td>\n",
       "      <td>43</td>\n",
       "      <td>43</td>\n",
       "    </tr>\n",
       "    <tr>\n",
       "      <th rowspan=\"5\" valign=\"top\">Male</th>\n",
       "      <th>Arts</th>\n",
       "      <td>45</td>\n",
       "      <td>45</td>\n",
       "      <td>45</td>\n",
       "      <td>45</td>\n",
       "      <td>45</td>\n",
       "      <td>45</td>\n",
       "      <td>45</td>\n",
       "    </tr>\n",
       "    <tr>\n",
       "      <th>Business</th>\n",
       "      <td>57</td>\n",
       "      <td>57</td>\n",
       "      <td>57</td>\n",
       "      <td>57</td>\n",
       "      <td>57</td>\n",
       "      <td>57</td>\n",
       "      <td>57</td>\n",
       "    </tr>\n",
       "    <tr>\n",
       "      <th>Education</th>\n",
       "      <td>56</td>\n",
       "      <td>56</td>\n",
       "      <td>56</td>\n",
       "      <td>56</td>\n",
       "      <td>56</td>\n",
       "      <td>56</td>\n",
       "      <td>56</td>\n",
       "    </tr>\n",
       "    <tr>\n",
       "      <th>Engineering</th>\n",
       "      <td>49</td>\n",
       "      <td>49</td>\n",
       "      <td>49</td>\n",
       "      <td>49</td>\n",
       "      <td>49</td>\n",
       "      <td>49</td>\n",
       "      <td>49</td>\n",
       "    </tr>\n",
       "    <tr>\n",
       "      <th>Science</th>\n",
       "      <td>37</td>\n",
       "      <td>37</td>\n",
       "      <td>37</td>\n",
       "      <td>37</td>\n",
       "      <td>37</td>\n",
       "      <td>37</td>\n",
       "      <td>37</td>\n",
       "    </tr>\n",
       "  </tbody>\n",
       "</table>\n",
       "</div>"
      ],
      "text/plain": [
       "                    StudentID  Age  StudyHoursPerWeek  AttendanceRate  GPA  \\\n",
       "Gender Major                                                                 \n",
       "Female Arts                55   55                 55              55   55   \n",
       "       Business            57   57                 57              57   57   \n",
       "       Education           41   41                 41              41   41   \n",
       "       Engineering         60   60                 60              60   60   \n",
       "       Science             43   43                 43              43   43   \n",
       "Male   Arts                45   45                 45              45   45   \n",
       "       Business            57   57                 57              57   57   \n",
       "       Education           56   56                 56              56   56   \n",
       "       Engineering         49   49                 49              49   49   \n",
       "       Science             37   37                 37              37   37   \n",
       "\n",
       "                    PartTimeJob  ExtraCurricularActivities  \n",
       "Gender Major                                                \n",
       "Female Arts                  55                         55  \n",
       "       Business              57                         57  \n",
       "       Education             41                         41  \n",
       "       Engineering           60                         60  \n",
       "       Science               43                         43  \n",
       "Male   Arts                  45                         45  \n",
       "       Business              57                         57  \n",
       "       Education             56                         56  \n",
       "       Engineering           49                         49  \n",
       "       Science               37                         37  "
      ]
     },
     "execution_count": 28,
     "metadata": {},
     "output_type": "execute_result"
    }
   ],
   "source": [
    "student_df.groupby(['Gender','Major']).count()\n"
   ]
  },
  {
   "cell_type": "code",
   "execution_count": 29,
   "id": "0f59a35f-7cd9-49eb-9436-b6f81451488b",
   "metadata": {},
   "outputs": [
    {
     "data": {
      "text/plain": [
       "(10, 7)"
      ]
     },
     "execution_count": 29,
     "metadata": {},
     "output_type": "execute_result"
    }
   ],
   "source": [
    "student_df.groupby(['Gender','Major']).count().shape # finding the size of dataset"
   ]
  },
  {
   "cell_type": "code",
   "execution_count": 30,
   "id": "bb2bb7b0-ebb6-4484-8e7d-a57c19a8919b",
   "metadata": {},
   "outputs": [
    {
     "data": {
      "text/plain": [
       "Gender  Major      \n",
       "Female  Arts           1070\n",
       "        Business       1229\n",
       "        Education       818\n",
       "        Engineering    1196\n",
       "        Science         813\n",
       "Male    Arts            881\n",
       "        Business       1130\n",
       "        Education      1212\n",
       "        Engineering     929\n",
       "        Science         660\n",
       "Name: StudyHoursPerWeek, dtype: int64"
      ]
     },
     "execution_count": 30,
     "metadata": {},
     "output_type": "execute_result"
    }
   ],
   "source": [
    "student_df.groupby(['Gender','Major'])['StudyHoursPerWeek'].sum() #Indicating the sum of study hours for each Major "
   ]
  },
  {
   "cell_type": "markdown",
   "id": "b7bd5c70-db7a-4946-a26e-291f00fe6c24",
   "metadata": {},
   "source": [
    "Female gender with Businness as  Major has total of 1229 study hours per week\n",
    "\n",
    "Male gender with Education as  Major has total of 1212 study hours per week\n"
   ]
  },
  {
   "cell_type": "markdown",
   "id": "5eabb2ec-651b-4a9f-b025-65b121d4fc9e",
   "metadata": {},
   "source": [
    "# Alternatively, Could also use the below code but only that this does not show the total hours as one above"
   ]
  },
  {
   "cell_type": "code",
   "execution_count": 31,
   "id": "b46dda04-d4fd-4bc9-8ae9-350b00118937",
   "metadata": {},
   "outputs": [
    {
     "data": {
      "text/plain": [
       "Gender\n",
       "Female    (Female, Business)\n",
       "Male       (Male, Education)\n",
       "Name: StudyHoursPerWeek, dtype: object"
      ]
     },
     "execution_count": 31,
     "metadata": {},
     "output_type": "execute_result"
    }
   ],
   "source": [
    "study_hours = student_df.groupby(['Gender', 'Major'])['StudyHoursPerWeek'].sum()\n",
    "highest_study_hours = study_hours.groupby('Gender').idxmax()\n",
    "highest_study_hours"
   ]
  },
  {
   "cell_type": "markdown",
   "id": "0bea1a7c-c601-463b-b254-7a8b2a47a153",
   "metadata": {},
   "source": [
    "# 2b) Gender with highest attendace rate "
   ]
  },
  {
   "cell_type": "code",
   "execution_count": 32,
   "id": "ee803e37-4041-40df-8d02-8574c551516a",
   "metadata": {},
   "outputs": [
    {
     "data": {
      "text/plain": [
       "('Female', np.float64(75.9257421875))"
      ]
     },
     "execution_count": 32,
     "metadata": {},
     "output_type": "execute_result"
    }
   ],
   "source": [
    "attendance_rate = student_df.groupby('Gender')['AttendanceRate'].mean()\n",
    "highest_attendance = attendance_rate.idxmax(), attendance_rate.max()\n",
    "highest_attendance"
   ]
  },
  {
   "cell_type": "markdown",
   "id": "e33fede7-7d89-4271-b967-03b457fff6da",
   "metadata": {},
   "source": [
    "# 2.c) "
   ]
  },
  {
   "cell_type": "code",
   "execution_count": 33,
   "id": "922e01fe-0adb-4fa8-af29-3d7145dc8f30",
   "metadata": {
    "scrolled": true
   },
   "outputs": [
    {
     "data": {
      "text/plain": [
       "PartTimeJob\n",
       "Yes    53.6\n",
       "No     46.4\n",
       "Name: proportion, dtype: float64"
      ]
     },
     "execution_count": 33,
     "metadata": {},
     "output_type": "execute_result"
    }
   ],
   "source": [
    "part_time_number = student_df['PartTimeJob'].value_counts(normalize=True) * 100\n",
    "part_time_number"
   ]
  },
  {
   "cell_type": "markdown",
   "id": "d3bccc35-7e5b-4506-a6e0-dd9fce746470",
   "metadata": {},
   "source": [
    "53.6% are people with part time job and 46.4% indicates people without part time job"
   ]
  },
  {
   "cell_type": "markdown",
   "id": "c9087375-adb5-4542-9676-40b8e5bf2a81",
   "metadata": {},
   "source": [
    "# 2.d)Mean GPA and variance of age by gender"
   ]
  },
  {
   "cell_type": "code",
   "execution_count": 34,
   "id": "8f752f01-b245-4132-bbeb-2d7d81a1fc8f",
   "metadata": {},
   "outputs": [
    {
     "data": {
      "text/html": [
       "<div>\n",
       "<style scoped>\n",
       "    .dataframe tbody tr th:only-of-type {\n",
       "        vertical-align: middle;\n",
       "    }\n",
       "\n",
       "    .dataframe tbody tr th {\n",
       "        vertical-align: top;\n",
       "    }\n",
       "\n",
       "    .dataframe thead th {\n",
       "        text-align: right;\n",
       "    }\n",
       "</style>\n",
       "<table border=\"1\" class=\"dataframe\">\n",
       "  <thead>\n",
       "    <tr style=\"text-align: right;\">\n",
       "      <th></th>\n",
       "      <th>mean_gpa</th>\n",
       "      <th>age_variance</th>\n",
       "    </tr>\n",
       "    <tr>\n",
       "      <th>Gender</th>\n",
       "      <th></th>\n",
       "      <th></th>\n",
       "    </tr>\n",
       "  </thead>\n",
       "  <tbody>\n",
       "    <tr>\n",
       "      <th>Female</th>\n",
       "      <td>2.995352</td>\n",
       "      <td>4.005637</td>\n",
       "    </tr>\n",
       "    <tr>\n",
       "      <th>Male</th>\n",
       "      <td>2.974467</td>\n",
       "      <td>3.960130</td>\n",
       "    </tr>\n",
       "  </tbody>\n",
       "</table>\n",
       "</div>"
      ],
      "text/plain": [
       "        mean_gpa  age_variance\n",
       "Gender                        \n",
       "Female  2.995352      4.005637\n",
       "Male    2.974467      3.960130"
      ]
     },
     "execution_count": 34,
     "metadata": {},
     "output_type": "execute_result"
    }
   ],
   "source": [
    " # Mean GPA and variance of age by gender\n",
    "stats = student_df.groupby('Gender').agg(mean_gpa=('GPA', 'mean'), age_variance=('Age', 'var'))\n",
    "stats\n"
   ]
  },
  {
   "cell_type": "markdown",
   "id": "02d68736-3b1d-4605-b3fa-a82457327559",
   "metadata": {},
   "source": [
    "# 2.c)"
   ]
  },
  {
   "cell_type": "code",
   "execution_count": 35,
   "id": "2c8d8d2d-8eb2-4666-9d09-ffbfeeaa13de",
   "metadata": {},
   "outputs": [
    {
     "data": {
      "text/plain": [
       "<Axes: title={'center': 'AttendanceRate Against GPA'}, xlabel='GPA', ylabel='AttendanceRate'>"
      ]
     },
     "execution_count": 35,
     "metadata": {},
     "output_type": "execute_result"
    },
    {
     "data": {
      "image/png": "[encoded data removed]",
      "text/plain": [
       "<Figure size 640x480 with 1 Axes>"
      ]
     },
     "metadata": {},
     "output_type": "display_data"
    }
   ],
   "source": [
    "student_df.plot.scatter(x='GPA', y='AttendanceRate', title='AttendanceRate Against GPA', color='tomato')"
   ]
  },
  {
   "cell_type": "code",
   "execution_count": 36,
   "id": "7be7f32e-8add-40ab-a42c-a2cef862637a",
   "metadata": {},
   "outputs": [
    {
     "name": "stdout",
     "output_type": "stream",
     "text": [
      "Correlation between Attendance Rate and GPA: 0.06082809359079901\n"
     ]
    }
   ],
   "source": [
    "\n",
    "# Calculating the correlation between attendance rate and GPA\n",
    "correlation = student_df['AttendanceRate'].corr(student_df['GPA'])\n",
    "\n",
    "print(f\"Correlation between Attendance Rate and GPA: {correlation}\")\n"
   ]
  },
  {
   "cell_type": "markdown",
   "id": "24894fb9-9cb6-4a43-ac22-63dc2403dc67",
   "metadata": {},
   "source": [
    "The correlation between Attendance Rate and GPA is 0.0608, which is very close to 0.\n",
    "A correlation of 0.0608 suggests a very weak positive linear relationship between attendance rate and GPA.\n",
    "This means that, on average, changes in attendance rate are associated with minimal changes in GPA, but the relationship is not strong enough to be practically significant.\n",
    "\n",
    "Attendance rate alone is insufficient to predict academic performance, and incorporating additional variables (e.g., time spent studying, extracurricular involvement, or demographic factors) may provide a clearer picture of what drives GPA.\n"
   ]
  },
  {
   "cell_type": "markdown",
   "id": "10e40f11-1154-48e5-9a92-e76545176cbc",
   "metadata": {},
   "source": [
    "# 3. Linear Regression"
   ]
  },
  {
   "cell_type": "markdown",
   "id": "ca0116c3-e4f3-4c9d-abdd-88a110e28a95",
   "metadata": {},
   "source": [
    "# 3.a) The steps involved in Fitting Linear Regression in python"
   ]
  },
  {
   "cell_type": "markdown",
   "id": "3a914cd1-a1d6-4bb0-b9eb-ac3a9c85daab",
   "metadata": {},
   "source": [
    "1. Data Processing: Ensure relevant columns are numeric and handle missing values if any.\n",
    "use print(\"Missing Values in Each Column:\\n\", df.isnull().sum())  \n",
    "msno.matrix(df)  to check missing value column by column.\n",
    " \n",
    "Encoding categorical variables  \n",
    "Convert categorical data (data that represents categories or labels) into numerical format so that it can be used in machine learning algorithms, which typically require numerical inputs. Categorical variables, such as \"gender\" (e.g., male, female) or \"education level\" (e.g., high school, college, graduate), must be transformed into numbers while preserving the meaning of the categories.\n",
    "\n",
    "2. Fit a Simple Linear Regression Model: Use Age as the independent variable (x) and Income-wages as the dependent variable (y).\n",
    "\n",
    "3. Evaluate the Model: Compute metrics like Mean Squared Error (MSE).\n",
    "\n",
    "4. Extract Coefficients: Formulate the regression equation.\n",
    "\n",
    "5. Visualize the Relationship: Create a scatter plot and overlay the regression line."
   ]
  },
  {
   "cell_type": "markdown",
   "id": "458c3875-530d-4382-86ee-97a1f14c250d",
   "metadata": {},
   "source": [
    "# 3.b) Linear Regression Assumptions"
   ]
  },
  {
   "cell_type": "markdown",
   "id": "024578f1-e229-4c6e-ab71-8c2434ff3179",
   "metadata": {},
   "source": [
    "1. Linearity\n",
    "Assumption: The relationship between the independent and dependent variables is linear. This means that a change in the independent variable results in a proportional change in the dependent variable (Income).\n",
    "2. Independence: Observations are independent of each other.\n",
    "3. Homoscedasticity: The variance of residuals is constant across all levels of the independent variables.\n",
    "4. Independence of Errors\n",
    "Independence of errors is another critical assumption for linear regression models. It ensures that the residuals (the differences between the observed and predicted values) are not correlated with one another.\n",
    "5. No Multicollinearity: Independent variables are not highly correlated with each other.\n",
    " "
   ]
  },
  {
   "cell_type": "markdown",
   "id": "bdc1c66b-4ab2-4fb2-8170-7be6c42b7faf",
   "metadata": {},
   "source": [
    "# 3.c) Training Simple Linear Regression Using the 2020 US Census Dataset"
   ]
  },
  {
   "cell_type": "code",
   "execution_count": 37,
   "id": "406e8318-bf69-4add-9336-7b5eb41d6f21",
   "metadata": {},
   "outputs": [
    {
     "name": "stdout",
     "output_type": "stream",
     "text": [
      "Trained Linear Regression Equation: y = 20242.34 + 939.96x\n"
     ]
    }
   ],
   "source": [
    "from sklearn.model_selection import train_test_split\n",
    "from sklearn.linear_model import LinearRegression\n",
    "from sklearn.metrics import mean_squared_error\n",
    "\n",
    "X = wages_df[['Age']]  # Independent variable\n",
    "y = wages_df['Income-wages']     # Dependent variable\n",
    "\n",
    "# Split data into training and test sets\n",
    "X_train, X_test, y_train, y_test = train_test_split(X, y, test_size=0.2, random_state=42)\n",
    "\n",
    "# Train a simple linear regression model\n",
    "model = LinearRegression()\n",
    "model.fit(X_train, y_train)\n",
    "\n",
    "# Extract coefficients\n",
    "intercept = model.intercept_\n",
    "slope = model.coef_[0]\n",
    "print(f\"Trained Linear Regression Equation: y = {intercept:.2f} + {slope:.2f}x\")\n"
   ]
  },
  {
   "cell_type": "markdown",
   "id": "26436608-87fd-445d-a82e-6bb2f744a372",
   "metadata": {},
   "source": [
    "Intercept (20242.34):\n",
    "This is the predicted value of y (Income-wages) when the independent variable x(Age) is zero.\n",
    "\n",
    "Slope (939.96): Indicates for every additional year of Age, the predicted Income-wages increases by approximately 939.96 units, on average."
   ]
  },
  {
   "cell_type": "markdown",
   "id": "d60be1ee-cbf0-44b4-9ccc-8cc03a15706d",
   "metadata": {},
   "source": [
    "# 3.d) Computing the Mean Absolute Error (MSE) "
   ]
  },
  {
   "cell_type": "code",
   "execution_count": 38,
   "id": "03f18e07-3605-4622-be21-fc4605cbd73f",
   "metadata": {},
   "outputs": [
    {
     "name": "stdout",
     "output_type": "stream",
     "text": [
      "Mean Squared Error (MSE): 3337808440.80\n"
     ]
    }
   ],
   "source": [
    "y_pred = model.predict(X_test)\n",
    "\n",
    "# Calculate Mean Squared Error (MSE)\n",
    "mse = mean_squared_error(y_test, y_pred)\n",
    "print(f\"Mean Squared Error (MSE): {mse:.2f}\")\n"
   ]
  },
  {
   "cell_type": "markdown",
   "id": "b0095feb-3506-4523-a8c4-9244004ef791",
   "metadata": {},
   "source": [
    "Value Interpretation:\n",
    "\n",
    "An MSE of 3337808440.80 indicates that, on average, the squared error between the predicted and actual income values is approximately 3.34 billion.\n"
   ]
  },
  {
   "cell_type": "markdown",
   "id": "50b76450-6d6f-460a-a6f6-bcb912b83eee",
   "metadata": {},
   "source": [
    "# 3.e) Key Outputs from a Linear Regression Model\n",
    "Coefficients (β1): Represent the slope, showing the effect of the independent variable on the target.\n",
    "\n",
    "Intercept (β0): Represents the predicted value of the target when the independent variable is zero.\n",
    "\n",
    "Residuals: Differences between actual and predicted values, used to check assumptions.\n",
    "\n",
    "R-squared: Indicates the proportion of variance in the target explained by the independent variable(s).\n",
    "\n",
    "Significance (p-value): Tests the statistical significance of the coefficients.\n",
    "\n",
    "Interpretation Example:\n",
    "\n",
    "If the slope (β1) = (939.96), for every unit increase in the independent variable (Age), the dependent variable (Income) increases by (939.96) on average.\n"
   ]
  },
  {
   "cell_type": "markdown",
   "id": "1c228f99-7892-459e-af84-5bbf72626e48",
   "metadata": {},
   "source": [
    "# 3.f) Plotting Linear Regression Model"
   ]
  },
  {
   "cell_type": "code",
   "execution_count": 39,
   "id": "ca80ed2a-54d9-44f2-8838-401a90c60b6f",
   "metadata": {},
   "outputs": [
    {
     "data": {
      "image/png": "[encoded data removed]",
      "text/plain": [
       "<Figure size 640x480 with 1 Axes>"
      ]
     },
     "metadata": {},
     "output_type": "display_data"
    }
   ],
   "source": [
    "# Scatter plot of the data\n",
    "plt.scatter(X_test, y_test, color='tomato', label='Actual')\n",
    "\n",
    "# Regression line\n",
    "plt.plot(X_test, y_pred, color='green', label='Predicted')\n",
    "plt.title('Linear Regression Model')\n",
    "plt.xlabel('Independent Variable (Age)')\n",
    "plt.ylabel('Dependent Variable (Income)')\n",
    "plt.legend()\n",
    "plt.show()\n"
   ]
  },
  {
   "cell_type": "markdown",
   "id": "79ba29f0-fc32-4125-9b9d-2dd2e924b71c",
   "metadata": {},
   "source": [
    "Explanation:\n",
    "\n",
    "Model Fit:\n",
    "The green regression line appears nearly flat relative to the scattered points, indicating a weak linear relationship between the independent variable (Age) and the dependent variable (Income).\n",
    "The actual data points are widely spread above and below the regression line, suggesting that the model is not accurately capturing the relationship.\n",
    "\n",
    "Conclusion:\n",
    "The data can be used to train a model, but not effectively with the current setup. The current simple linear regression model is too simplistic for this dataset. Here's why:\n",
    "\n",
    "Low Predictive Power:\n",
    "A simple linear regression cannot explain the large variability in income based solely on one independent variable (Age). This limits its utility.\n",
    "Need for Additional Features to better capture the complexity of the data, additional predictors (e.g., education, job type, work hours,) should be included. A multiple linear regression or more complex model would likely perform better."
   ]
  },
  {
   "cell_type": "markdown",
   "id": "c7ade98d-7d12-41ca-97e1-bcf84a77b26e",
   "metadata": {},
   "source": [
    "Ref on Linear Regression:\n",
    "\n",
    "Muhamme, A. B. (n.d.). 04.Intro to Matplotlib. Jupyter Notebook.\n",
    "\n",
    "Muhamme, A. B. (n.d.). 06.univariate_linear_regression. Jupyter Notebook."
   ]
  },
  {
   "cell_type": "markdown",
   "id": "9b979fd3-6ab0-4dc6-94ef-ad51c7c87a7f",
   "metadata": {},
   "source": [
    "# 4. Bonus Question"
   ]
  },
  {
   "cell_type": "markdown",
   "id": "8f36aeed-e557-45a8-b4d8-8f474889b87c",
   "metadata": {},
   "source": [
    "# 4a) Matrix multiplication of 5x3 by 3x2"
   ]
  },
  {
   "cell_type": "markdown",
   "id": "9903f732-be71-43db-836d-f82cd59e9b37",
   "metadata": {},
   "source": [
    "# Using real values"
   ]
  },
  {
   "cell_type": "code",
   "execution_count": 40,
   "id": "ca0d1ff4-ce6e-4447-8858-d95ab3688453",
   "metadata": {},
   "outputs": [
    {
     "name": "stdout",
     "output_type": "stream",
     "text": [
      "[[15 28 26]\n",
      " [27 30 24]\n",
      " [24 20 28]\n",
      " [24 20 28]\n",
      " [55 56 62]]\n"
     ]
    }
   ],
   "source": [
    "x = np.array([[2,1,4],[3,4,2],[1,3,4],[1,3,4],[4,7,8]])\n",
    "y = np.array([[1,8,2],[5,0,2],[2,3,5]])\n",
    "print(np.dot(x,y))"
   ]
  },
  {
   "cell_type": "markdown",
   "id": "5d11d1f9-58f4-400b-9d3f-1ed715af060b",
   "metadata": {},
   "source": [
    "# Using random values"
   ]
  },
  {
   "cell_type": "code",
   "execution_count": 41,
   "id": "ab3b73ef-d8be-4745-a2a3-5c57bcf33739",
   "metadata": {},
   "outputs": [
    {
     "name": "stdout",
     "output_type": "stream",
     "text": [
      "First array:\n",
      "[[0.10870474 0.74500685 0.40443966]\n",
      " [0.95839081 0.33870251 0.32860359]\n",
      " [0.1572458  0.68914173 0.19994541]\n",
      " [0.3748606  0.81839491 0.0974174 ]\n",
      " [0.338555   0.554684   0.16600424]]\n"
     ]
    }
   ],
   "source": [
    "# Generating a random array of shape (5, 3)\n",
    "x = np.random.random((5,3))\n",
    "# Displaying the first array\n",
    "print(\"First array:\")\n",
    "print(x)"
   ]
  },
  {
   "cell_type": "code",
   "execution_count": 42,
   "id": "8f634fc3-5757-44a7-bbf8-a81c84a41247",
   "metadata": {},
   "outputs": [
    {
     "name": "stdout",
     "output_type": "stream",
     "text": [
      "Second array:\n",
      "[[0.01260372 0.99190495]\n",
      " [0.30279082 0.98805824]\n",
      " [0.90807752 0.40731848]]\n"
     ]
    }
   ],
   "source": [
    "# Generating another random array of shape (3, 2)\n",
    "y = np.random.random((3,2))\n",
    "# Displaying the second array\n",
    "print(\"Second array:\")\n",
    "print(y)"
   ]
  },
  {
   "cell_type": "code",
   "execution_count": 43,
   "id": "1dc3c8b7-d487-4208-b749-4dc6385532a1",
   "metadata": {},
   "outputs": [
    {
     "name": "stdout",
     "output_type": "stream",
     "text": [
      "Dot product of two arrays:\n",
      "[[0.59421388 1.00867067]\n",
      " [0.41303283 1.41913671]\n",
      " [0.3922136  0.91832651]\n",
      " [0.34098965 1.22012783]\n",
      " [0.32296499 0.95149107]]\n"
     ]
    }
   ],
   "source": [
    "# Computing using dot product of the two arrays\n",
    "z = np.dot(x, y)\n",
    "\n",
    "# Displaying the dot product of the arrays\n",
    "print(\"Dot product of two arrays:\")\n",
    "print(z)"
   ]
  },
  {
   "cell_type": "markdown",
   "id": "9685c6d8-cee2-43cb-962f-63da31c29ca9",
   "metadata": {},
   "source": [
    "# 4b) Creating a 3x3 identity matrix using np.identity()"
   ]
  },
  {
   "cell_type": "code",
   "execution_count": 44,
   "id": "eaca8b74-c38f-4087-819c-34cfe2d8e881",
   "metadata": {},
   "outputs": [
    {
     "name": "stdout",
     "output_type": "stream",
     "text": [
      "3x3 matrix:\n",
      "[[1. 0. 0.]\n",
      " [0. 1. 0.]\n",
      " [0. 0. 1.]]\n"
     ]
    }
   ],
   "source": [
    "\n",
    "identity_matrix = np.identity(3)\n",
    "\n",
    "# Printing a message indicating a 3x3 matrix\n",
    "print('3x3 matrix:')\n",
    "\n",
    "# Printing the 3x3 identity matrix\n",
    "print(identity_matrix) "
   ]
  },
  {
   "cell_type": "markdown",
   "id": "ddebd58e-b30a-4a68-97ed-ca571d08b332",
   "metadata": {},
   "source": [
    "# 4c) Creating a vector with value from 10-49"
   ]
  },
  {
   "cell_type": "code",
   "execution_count": 45,
   "id": "8ea67242-e93c-42df-9361-9a22ebc5f90f",
   "metadata": {},
   "outputs": [
    {
     "name": "stdout",
     "output_type": "stream",
     "text": [
      "[10.         13.54545455 17.09090909 20.63636364 24.18181818 27.72727273\n",
      " 31.27272727 34.81818182 38.36363636 41.90909091 45.45454545 49.        ]\n"
     ]
    }
   ],
   "source": [
    "# Creating an array 'x' using NumPy's linspace function,\n",
    "# generating 12 evenly spaced values between 0 and 1 (inclusive) with the 'endpoint' set to True,\n",
    "# and selecting elements from index 1 to the second-to-last index using [1:-1]\n",
    "x = np.linspace(10, 49, 12,  endpoint=True)\n",
    "\n",
    "# Printing the array 'x' that was created\n",
    "print(x)\n"
   ]
  },
  {
   "cell_type": "markdown",
   "id": "1f021b83-0805-466e-83ee-115a7e63eea6",
   "metadata": {},
   "source": [
    "Using linespace function, evenly distribute spaced values of 12 instead of generating a vector from 10-49 with all figures"
   ]
  },
  {
   "cell_type": "markdown",
   "id": "9cc60411-9e21-4031-b8fd-63dc01f426b1",
   "metadata": {},
   "source": [
    "# Alternatively"
   ]
  },
  {
   "cell_type": "markdown",
   "id": "b69004be-c761-4609-b486-48e78829fca5",
   "metadata": {},
   "source": [
    "# 4d) Creating a null vector of size 10"
   ]
  },
  {
   "cell_type": "code",
   "execution_count": 46,
   "id": "b591a0c2-7fa9-48b1-85c8-75aaf87ad6e3",
   "metadata": {},
   "outputs": [
    {
     "name": "stdout",
     "output_type": "stream",
     "text": [
      "[0. 0. 0. 0. 0. 0. 0. 0. 0. 0.]\n"
     ]
    }
   ],
   "source": [
    "def null_array(n):\n",
    "\n",
    "    x = np.zeros(n)\n",
    "\n",
    "    return x\n",
    "\n",
    "#Step 3: Generate and Print the Null Vector in NumPy\n",
    "#Call the null_array function with your desired vector size. This step will produce a null vector containing zeros, making it suitable for various applications.\n",
    "\n",
    "print(null_array(10))"
   ]
  },
  {
   "cell_type": "markdown",
   "id": "4c952a3f-97cb-4b4d-9152-18f16f1e7ece",
   "metadata": {},
   "source": [
    "# 4e) Creating array with random variables"
   ]
  },
  {
   "cell_type": "code",
   "execution_count": 47,
   "id": "7a603714-3dab-4082-bed5-4625ef5cf162",
   "metadata": {},
   "outputs": [
    {
     "name": "stdout",
     "output_type": "stream",
     "text": [
      "[[[0.93441128 0.71756973 0.5454072 ]\n",
      "  [0.08859114 0.75257932 0.65008012]\n",
      "  [0.85469685 0.78832967 0.31291984]]\n",
      "\n",
      " [[0.04444048 0.10262395 0.63391814]\n",
      "  [0.37311848 0.18593989 0.54770063]\n",
      "  [0.09199471 0.37462055 0.71114832]]\n",
      "\n",
      " [[0.87865308 0.90605125 0.53599372]\n",
      "  [0.49161025 0.68063486 0.09912807]\n",
      "  [0.8535171  0.36139025 0.3715954 ]]]\n"
     ]
    }
   ],
   "source": [
    "# Generating a 3x3x3 NumPy array 'x' filled with random floats between 0 and 1 using np.random.random()\n",
    "\n",
    "x = np.random.random((3, 3, 3))\n",
    "\n",
    "# Printing the array 'x'\n",
    "print(x) "
   ]
  },
  {
   "cell_type": "markdown",
   "id": "75623f99-a189-4d54-affa-473c76d5cbcf",
   "metadata": {},
   "source": [
    "# 4f) Creating a diagonal matrix with diagonal elements below the diagonal"
   ]
  },
  {
   "cell_type": "code",
   "execution_count": 48,
   "id": "6378b388-d54b-4c9a-95ba-6bfd215693b4",
   "metadata": {},
   "outputs": [
    {
     "name": "stdout",
     "output_type": "stream",
     "text": [
      "[[0 0 0 0 0]\n",
      " [0 1 0 0 0]\n",
      " [0 0 2 0 0]\n",
      " [0 0 0 3 0]\n",
      " [0 0 0 0 4]]\n"
     ]
    }
   ],
   "source": [
    "# matrix with diagonal elements 1, 2, 3, 4, 5 using np.diag()\n",
    "x = np.diag([0,1, 2, 3, 4])\n",
    "\n",
    "# Printing the diagonal matrix 'x'\n",
    "print(x) \n"
   ]
  },
  {
   "cell_type": "markdown",
   "id": "e40d1559-996f-4cc4-8848-3456e42118a2",
   "metadata": {},
   "source": [
    "Resource used:\n",
    "\n",
    "(W3resource)https://www.w3resource.com/python-exercises/numpy/basic/numpy-basic-exercise-29.php"
   ]
  },
  {
   "cell_type": "markdown",
   "id": "1ab86f7a-0523-4a6c-9c58-b349d9986696",
   "metadata": {},
   "source": [
    "# 4g) Normalizing a 5x5 random matrix"
   ]
  },
  {
   "cell_type": "markdown",
   "id": "127fb5a3-9fae-45e6-81c1-99ee88f74cc5",
   "metadata": {},
   "source": [
    "Need mean and standard deviation to normalize or standardize this matrix\n",
    "\n",
    "for eg Normalizing the each column, we subtract matrix elements from column mean and divide by standard deviation"
   ]
  },
  {
   "cell_type": "code",
   "execution_count": 49,
   "id": "db1e2ee6-aacb-4e59-877d-111128199064",
   "metadata": {},
   "outputs": [
    {
     "name": "stdout",
     "output_type": "stream",
     "text": [
      "Original array elements:\n",
      "Original Array:\n",
      "[[0.2332526  0.71633663 0.32443857 0.4522272  0.15072173]\n",
      " [0.8215998  0.1274742  0.73246171 0.72525665 0.08999202]\n",
      " [0.66097375 0.41216856 0.76649083 0.61632674 0.20488048]\n",
      " [0.02342807 0.02817794 0.47324974 0.96217138 0.42353457]\n",
      " [0.05480484 0.68986545 0.32271337 0.40095821 0.14661596]]\n",
      "\n",
      "Normalized Array (column-wise):\n",
      "[[-0.38706333  1.14161264 -1.03630993 -0.88773518 -0.45181812]\n",
      " [ 1.42664371 -0.94916723  1.08390072  0.46511546 -0.97518715]\n",
      " [ 0.93147929  0.06165159  1.26072625 -0.07462815  0.01492231]\n",
      " [-1.03389267 -1.30172262 -0.26304245  1.63901898  1.89928467]\n",
      " [-0.937167    1.04762562 -1.04527459 -1.14177112 -0.4872017 ]]\n"
     ]
    }
   ],
   "source": [
    "# create a 5x5 array with random values\n",
    "nums = np.random.rand(5, 5)\n",
    "print(\"Original array elements:\")\n",
    "\n",
    "# compute the mean of each column\n",
    "col_means = np.mean(nums, axis=0)\n",
    "\n",
    "# normalize each column by subtracting its mean and dividing by its standard deviation\n",
    "arr_normalized = (nums - col_means) / np.std(nums, axis=0)\n",
    "\n",
    "print(\"Original Array:\")\n",
    "print(nums)\n",
    "print(\"\\nNormalized Array (column-wise):\")\n",
    "print(arr_normalized)\n"
   ]
  },
  {
   "cell_type": "markdown",
   "id": "2fdd6df6-cb80-4b52-9812-809f5048707d",
   "metadata": {},
   "source": [
    "# 4h) Getting dates of yesterday, today and tomorrow"
   ]
  },
  {
   "cell_type": "code",
   "execution_count": 50,
   "id": "0dcad029-61eb-4295-bd86-106decba4862",
   "metadata": {},
   "outputs": [
    {
     "name": "stdout",
     "output_type": "stream",
     "text": [
      "Yestraday:  2024-12-12\n",
      "Today:  2024-12-13\n",
      "Tomorrow:  2024-12-14\n"
     ]
    }
   ],
   "source": [
    "# Calculating yesterday's date using NumPy's datetime64 and timedelta64\n",
    "yesterday = np.datetime64('today', 'D') - np.timedelta64(1, 'D')\n",
    "print(\"Yestraday: \", yesterday)\n",
    "\n",
    "# Calculating today's date using NumPy's datetime64\n",
    "today = np.datetime64('today', 'D')\n",
    "print(\"Today: \", today)\n",
    "\n",
    "# Calculating tomorrow's date using NumPy's datetime64 and timedelta64\n",
    "tomorrow = np.datetime64('today', 'D') + np.timedelta64(1, 'D')\n",
    "print(\"Tomorrow: \", tomorrow) \n"
   ]
  },
  {
   "cell_type": "markdown",
   "id": "c4966d43-8697-4438-b04c-a9c612c19d1b",
   "metadata": {},
   "source": [
    "Using NumPy's datetime64 and timedelta64 to calculate dates\n",
    "\n",
    "Yesterday's date is subtracted from today's date (np.datetime64('today', 'D') - np.timedelta64(1, 'D'))\n",
    "\n",
    "Today's date (np.datetime64('today', 'D')). No operation is done to find today's date because the current date\n",
    "\n",
    "Tomorrow's date (np.datetime64('today', 'D') + np.timedelta64(1, 'D')). we add 1 to today's date.\n"
   ]
  },
  {
   "cell_type": "markdown",
   "id": "eda47b0c-2dcb-48c6-90ca-0c9fabdec3c2",
   "metadata": {},
   "source": [
    "# 4i) Finding indices of non-zero elements in the array"
   ]
  },
  {
   "cell_type": "code",
   "execution_count": 51,
   "id": "c627ca10-2047-4789-8050-8fc971edc845",
   "metadata": {},
   "outputs": [
    {
     "name": "stdout",
     "output_type": "stream",
     "text": [
      "The original list is : [1, 2, 0, 0, 4, 0]\n",
      "Indices of Non-Zero elements : [0, 1, 4]\n"
     ]
    }
   ],
   "source": [
    "\n",
    "# using list comprehension + enumerate()\n",
    "\n",
    "# initialize list\n",
    "test_list = [1,2,0,0,4,0]\n",
    "\n",
    "# printing original list\n",
    "print(\"The original list is : \" + str(test_list))\n",
    "\n",
    "# Index of Non-Zero elements in Python list\n",
    "# using list comprehension + enumerate()\n",
    "res = [idx for idx, val in enumerate(test_list) if val != 0]\n",
    "\n",
    "# printing result\n",
    "print(\"Indices of Non-Zero elements : \" + str(res))"
   ]
  },
  {
   "cell_type": "code",
   "execution_count": 52,
   "id": "137b23f7-15a6-4595-9ba5-6e777b1b5a4e",
   "metadata": {},
   "outputs": [],
   "source": [
    "# Alternatively"
   ]
  },
  {
   "cell_type": "markdown",
   "id": "4b87e02f-b19f-48bb-a84a-c93c6e92cefe",
   "metadata": {},
   "source": [
    "Steps taken:\n",
    "\n",
    "Identifying non-zero elements first in the array using arr[np.nonzero(arr)]\n",
    "\n",
    "Finding indices of non- zero elements in the array  using np.non-zero(arr) \n"
   ]
  },
  {
   "cell_type": "code",
   "execution_count": 53,
   "id": "44c8396b-7bb7-4bc6-8251-e1e553f039ae",
   "metadata": {},
   "outputs": [
    {
     "name": "stdout",
     "output_type": "stream",
     "text": [
      "Elements of array arr is: [1 2 0 0 4 0]\n",
      "Non-zero elements of the array arr: [1 2 4]\n",
      "indices non-zero elements of array arr: (array([0, 1, 4]),)\n"
     ]
    }
   ],
   "source": [
    "arr=np.array([1,2,0,0,4,0])\n",
    "print(\"Elements of array arr is:\",arr )\n",
    "No_zero_ele =np.nonzero(arr)\n",
    "print(\"Non-zero elements of the array arr:\",arr[np.nonzero(arr)])\n",
    "print(\"indices non-zero elements of array arr:\",No_zero_ele )\n"
   ]
  },
  {
   "cell_type": "markdown",
   "id": "303a701a-cc4f-482e-b700-1a7d0a3557b1",
   "metadata": {},
   "source": [
    "Ref for Bonus Question;\n",
    "\n",
    "Muhamme, A. B. (n.d.). 03.Intro to numpy. Jupyter Notebook.\n",
    "\n",
    "(W3resource)https://www.w3resource.com/python-exercises/numpy/basic/numpy-basic-exercise-29.php"
   ]
  },
  {
   "cell_type": "code",
   "execution_count": null,
   "id": "35ea6ede-6df9-4327-a481-d78ce910b498",
   "metadata": {},
   "outputs": [],
   "source": []
  }
 ],
 "metadata": {
  "kernelspec": {
   "display_name": "Python 3 (ipykernel)",
   "language": "python",
   "name": "python3"
  },
  "language_info": {
   "codemirror_mode": {
    "name": "ipython",
    "version": 3
   },
   "file_extension": ".py",
   "mimetype": "text/x-python",
   "name": "python",
   "nbconvert_exporter": "python",
   "pygments_lexer": "ipython3",
   "version": "3.12.5"
  }
 },
 "nbformat": 4,
 "nbformat_minor": 5
}
